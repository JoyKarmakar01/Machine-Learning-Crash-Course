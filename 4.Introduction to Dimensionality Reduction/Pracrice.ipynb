{
 "cells": [
  {
   "cell_type": "code",
   "execution_count": 2,
   "id": "94eb2d58",
   "metadata": {},
   "outputs": [
    {
     "name": "stdout",
     "output_type": "stream",
     "text": [
      "0\n",
      "1\n",
      "2\n",
      "3\n",
      "4\n"
     ]
    }
   ],
   "source": [
    "\n",
    "    print(i)"
   ]
  },
  {
   "cell_type": "code",
   "execution_count": 11,
   "id": "43780cbb",
   "metadata": {},
   "outputs": [
    {
     "name": "stdout",
     "output_type": "stream",
     "text": [
      "This is f_col ['blank']\n",
      "['blank']\n",
      "This is f_col ['blank', 'blank']\n",
      "['blank', 'blank']\n",
      "This is f_col ['blank', 'blank', 'blank']\n",
      "['blank', 'blank', 'blank']\n",
      "This is f_col ['blank', 'blank', 'blank', 'blank']\n",
      "['blank', 'blank', 'blank', 'blank']\n",
      "This is f_col ['blank', 'blank', 'blank', 'blank', 'blank']\n",
      "['blank', 'blank', 'blank', 'blank', 'blank']\n"
     ]
    }
   ],
   "source": [
    "f_col=[]\n",
    "history=[]\n",
    "for i in range(5):\n",
    " f_col.append('blank')\n",
    " tmp = f_col[:]\n",
    " Rmax = -1\n",
    " print(\"This is f_col\",f_col)\n",
    " print(tmp)\n"
   ]
  },
  {
   "cell_type": "code",
   "execution_count": 7,
   "id": "1aa44cc0",
   "metadata": {},
   "outputs": [
    {
     "data": {
      "text/plain": [
       "['blank', 'blank', 'blank', 'blank', 'blank']"
      ]
     },
     "execution_count": 7,
     "metadata": {},
     "output_type": "execute_result"
    }
   ],
   "source": [
    "f_col"
   ]
  },
  {
   "cell_type": "code",
   "execution_count": 8,
   "id": "38a535f4",
   "metadata": {},
   "outputs": [
    {
     "data": {
      "text/plain": [
       "['blank', 'blank', 'blank', 'blank', 'blank']"
      ]
     },
     "execution_count": 8,
     "metadata": {},
     "output_type": "execute_result"
    }
   ],
   "source": [
    "tmp"
   ]
  },
  {
   "cell_type": "code",
   "execution_count": 12,
   "id": "1a71d709",
   "metadata": {},
   "outputs": [],
   "source": [
    "k = ['No of Bedrooms', 'No of Bathrooms', 'Flat Area (in Sqft)',\n",
    "       'Lot Area (in Sqft)', 'No of Floors', 'No of Times Visited',\n",
    "       'Overall Grade', 'Area of the House from Basement (in Sqft)',\n",
    "       'Basement Area (in Sqft)', 'Age of House (in Years)', 'Latitude',\n",
    "       'Longitude', 'Living Area after Renovation (in Sqft)',\n",
    "       'Lot Area after Renovation (in Sqft)', 'Years Since Renovation',\n",
    "       'Condition_of_the_House_Excellent', 'Condition_of_the_House_Fair',\n",
    "       'Condition_of_the_House_Good', 'Condition_of_the_House_Okay',\n",
    "       'Ever_Renovated_Yes', 'Waterfront_View_Yes',\n",
    "       'Zipcode_Group_Zipcode_Group_1', 'Zipcode_Group_Zipcode_Group_2',\n",
    "       'Zipcode_Group_Zipcode_Group_3', 'Zipcode_Group_Zipcode_Group_4',\n",
    "       'Zipcode_Group_Zipcode_Group_5', 'Zipcode_Group_Zipcode_Group_6',\n",
    "       'Zipcode_Group_Zipcode_Group_7', 'Zipcode_Group_Zipcode_Group_8',\n",
    "       'Zipcode_Group_Zipcode_Group_9']"
   ]
  },
  {
   "cell_type": "code",
   "execution_count": 17,
   "id": "977d5833",
   "metadata": {},
   "outputs": [
    {
     "name": "stdout",
     "output_type": "stream",
     "text": [
      "['No of Bedrooms']\n",
      "['No of Bathrooms']\n",
      "['Flat Area (in Sqft)']\n",
      "['Lot Area (in Sqft)']\n",
      "['No of Floors']\n",
      "['No of Times Visited']\n",
      "['Overall Grade']\n",
      "['Area of the House from Basement (in Sqft)']\n",
      "['Basement Area (in Sqft)']\n",
      "['Age of House (in Years)']\n",
      "['Latitude']\n",
      "['Longitude']\n",
      "['Living Area after Renovation (in Sqft)']\n",
      "['Lot Area after Renovation (in Sqft)']\n",
      "['Years Since Renovation']\n",
      "['Condition_of_the_House_Excellent']\n",
      "['Condition_of_the_House_Fair']\n",
      "['Condition_of_the_House_Good']\n",
      "['Condition_of_the_House_Okay']\n",
      "['Ever_Renovated_Yes']\n",
      "['Waterfront_View_Yes']\n",
      "['Zipcode_Group_Zipcode_Group_1']\n",
      "['Zipcode_Group_Zipcode_Group_2']\n",
      "['Zipcode_Group_Zipcode_Group_3']\n",
      "['Zipcode_Group_Zipcode_Group_4']\n",
      "['Zipcode_Group_Zipcode_Group_5']\n",
      "['Zipcode_Group_Zipcode_Group_6']\n",
      "['Zipcode_Group_Zipcode_Group_7']\n",
      "['Zipcode_Group_Zipcode_Group_8']\n",
      "['Zipcode_Group_Zipcode_Group_9']\n",
      "['blank', 'No of Bedrooms']\n",
      "['blank', 'No of Bathrooms']\n",
      "['blank', 'Flat Area (in Sqft)']\n",
      "['blank', 'Lot Area (in Sqft)']\n",
      "['blank', 'No of Floors']\n",
      "['blank', 'No of Times Visited']\n",
      "['blank', 'Overall Grade']\n",
      "['blank', 'Area of the House from Basement (in Sqft)']\n",
      "['blank', 'Basement Area (in Sqft)']\n",
      "['blank', 'Age of House (in Years)']\n",
      "['blank', 'Latitude']\n",
      "['blank', 'Longitude']\n",
      "['blank', 'Living Area after Renovation (in Sqft)']\n",
      "['blank', 'Lot Area after Renovation (in Sqft)']\n",
      "['blank', 'Years Since Renovation']\n",
      "['blank', 'Condition_of_the_House_Excellent']\n",
      "['blank', 'Condition_of_the_House_Fair']\n",
      "['blank', 'Condition_of_the_House_Good']\n",
      "['blank', 'Condition_of_the_House_Okay']\n",
      "['blank', 'Ever_Renovated_Yes']\n",
      "['blank', 'Waterfront_View_Yes']\n",
      "['blank', 'Zipcode_Group_Zipcode_Group_1']\n",
      "['blank', 'Zipcode_Group_Zipcode_Group_2']\n",
      "['blank', 'Zipcode_Group_Zipcode_Group_3']\n",
      "['blank', 'Zipcode_Group_Zipcode_Group_4']\n",
      "['blank', 'Zipcode_Group_Zipcode_Group_5']\n",
      "['blank', 'Zipcode_Group_Zipcode_Group_6']\n",
      "['blank', 'Zipcode_Group_Zipcode_Group_7']\n",
      "['blank', 'Zipcode_Group_Zipcode_Group_8']\n",
      "['blank', 'Zipcode_Group_Zipcode_Group_9']\n",
      "['blank', 'blank', 'No of Bedrooms']\n",
      "['blank', 'blank', 'No of Bathrooms']\n",
      "['blank', 'blank', 'Flat Area (in Sqft)']\n",
      "['blank', 'blank', 'Lot Area (in Sqft)']\n",
      "['blank', 'blank', 'No of Floors']\n",
      "['blank', 'blank', 'No of Times Visited']\n",
      "['blank', 'blank', 'Overall Grade']\n",
      "['blank', 'blank', 'Area of the House from Basement (in Sqft)']\n",
      "['blank', 'blank', 'Basement Area (in Sqft)']\n",
      "['blank', 'blank', 'Age of House (in Years)']\n",
      "['blank', 'blank', 'Latitude']\n",
      "['blank', 'blank', 'Longitude']\n",
      "['blank', 'blank', 'Living Area after Renovation (in Sqft)']\n",
      "['blank', 'blank', 'Lot Area after Renovation (in Sqft)']\n",
      "['blank', 'blank', 'Years Since Renovation']\n",
      "['blank', 'blank', 'Condition_of_the_House_Excellent']\n",
      "['blank', 'blank', 'Condition_of_the_House_Fair']\n",
      "['blank', 'blank', 'Condition_of_the_House_Good']\n",
      "['blank', 'blank', 'Condition_of_the_House_Okay']\n",
      "['blank', 'blank', 'Ever_Renovated_Yes']\n",
      "['blank', 'blank', 'Waterfront_View_Yes']\n",
      "['blank', 'blank', 'Zipcode_Group_Zipcode_Group_1']\n",
      "['blank', 'blank', 'Zipcode_Group_Zipcode_Group_2']\n",
      "['blank', 'blank', 'Zipcode_Group_Zipcode_Group_3']\n",
      "['blank', 'blank', 'Zipcode_Group_Zipcode_Group_4']\n",
      "['blank', 'blank', 'Zipcode_Group_Zipcode_Group_5']\n",
      "['blank', 'blank', 'Zipcode_Group_Zipcode_Group_6']\n",
      "['blank', 'blank', 'Zipcode_Group_Zipcode_Group_7']\n",
      "['blank', 'blank', 'Zipcode_Group_Zipcode_Group_8']\n",
      "['blank', 'blank', 'Zipcode_Group_Zipcode_Group_9']\n",
      "['blank', 'blank', 'blank', 'No of Bedrooms']\n",
      "['blank', 'blank', 'blank', 'No of Bathrooms']\n",
      "['blank', 'blank', 'blank', 'Flat Area (in Sqft)']\n",
      "['blank', 'blank', 'blank', 'Lot Area (in Sqft)']\n",
      "['blank', 'blank', 'blank', 'No of Floors']\n",
      "['blank', 'blank', 'blank', 'No of Times Visited']\n",
      "['blank', 'blank', 'blank', 'Overall Grade']\n",
      "['blank', 'blank', 'blank', 'Area of the House from Basement (in Sqft)']\n",
      "['blank', 'blank', 'blank', 'Basement Area (in Sqft)']\n",
      "['blank', 'blank', 'blank', 'Age of House (in Years)']\n",
      "['blank', 'blank', 'blank', 'Latitude']\n",
      "['blank', 'blank', 'blank', 'Longitude']\n",
      "['blank', 'blank', 'blank', 'Living Area after Renovation (in Sqft)']\n",
      "['blank', 'blank', 'blank', 'Lot Area after Renovation (in Sqft)']\n",
      "['blank', 'blank', 'blank', 'Years Since Renovation']\n",
      "['blank', 'blank', 'blank', 'Condition_of_the_House_Excellent']\n",
      "['blank', 'blank', 'blank', 'Condition_of_the_House_Fair']\n",
      "['blank', 'blank', 'blank', 'Condition_of_the_House_Good']\n",
      "['blank', 'blank', 'blank', 'Condition_of_the_House_Okay']\n",
      "['blank', 'blank', 'blank', 'Ever_Renovated_Yes']\n",
      "['blank', 'blank', 'blank', 'Waterfront_View_Yes']\n",
      "['blank', 'blank', 'blank', 'Zipcode_Group_Zipcode_Group_1']\n",
      "['blank', 'blank', 'blank', 'Zipcode_Group_Zipcode_Group_2']\n",
      "['blank', 'blank', 'blank', 'Zipcode_Group_Zipcode_Group_3']\n",
      "['blank', 'blank', 'blank', 'Zipcode_Group_Zipcode_Group_4']\n",
      "['blank', 'blank', 'blank', 'Zipcode_Group_Zipcode_Group_5']\n",
      "['blank', 'blank', 'blank', 'Zipcode_Group_Zipcode_Group_6']\n",
      "['blank', 'blank', 'blank', 'Zipcode_Group_Zipcode_Group_7']\n",
      "['blank', 'blank', 'blank', 'Zipcode_Group_Zipcode_Group_8']\n",
      "['blank', 'blank', 'blank', 'Zipcode_Group_Zipcode_Group_9']\n",
      "['blank', 'blank', 'blank', 'blank', 'No of Bedrooms']\n",
      "['blank', 'blank', 'blank', 'blank', 'No of Bathrooms']\n",
      "['blank', 'blank', 'blank', 'blank', 'Flat Area (in Sqft)']\n",
      "['blank', 'blank', 'blank', 'blank', 'Lot Area (in Sqft)']\n",
      "['blank', 'blank', 'blank', 'blank', 'No of Floors']\n",
      "['blank', 'blank', 'blank', 'blank', 'No of Times Visited']\n",
      "['blank', 'blank', 'blank', 'blank', 'Overall Grade']\n",
      "['blank', 'blank', 'blank', 'blank', 'Area of the House from Basement (in Sqft)']\n",
      "['blank', 'blank', 'blank', 'blank', 'Basement Area (in Sqft)']\n",
      "['blank', 'blank', 'blank', 'blank', 'Age of House (in Years)']\n",
      "['blank', 'blank', 'blank', 'blank', 'Latitude']\n",
      "['blank', 'blank', 'blank', 'blank', 'Longitude']\n",
      "['blank', 'blank', 'blank', 'blank', 'Living Area after Renovation (in Sqft)']\n",
      "['blank', 'blank', 'blank', 'blank', 'Lot Area after Renovation (in Sqft)']\n",
      "['blank', 'blank', 'blank', 'blank', 'Years Since Renovation']\n",
      "['blank', 'blank', 'blank', 'blank', 'Condition_of_the_House_Excellent']\n",
      "['blank', 'blank', 'blank', 'blank', 'Condition_of_the_House_Fair']\n",
      "['blank', 'blank', 'blank', 'blank', 'Condition_of_the_House_Good']\n",
      "['blank', 'blank', 'blank', 'blank', 'Condition_of_the_House_Okay']\n",
      "['blank', 'blank', 'blank', 'blank', 'Ever_Renovated_Yes']\n",
      "['blank', 'blank', 'blank', 'blank', 'Waterfront_View_Yes']\n",
      "['blank', 'blank', 'blank', 'blank', 'Zipcode_Group_Zipcode_Group_1']\n",
      "['blank', 'blank', 'blank', 'blank', 'Zipcode_Group_Zipcode_Group_2']\n",
      "['blank', 'blank', 'blank', 'blank', 'Zipcode_Group_Zipcode_Group_3']\n",
      "['blank', 'blank', 'blank', 'blank', 'Zipcode_Group_Zipcode_Group_4']\n",
      "['blank', 'blank', 'blank', 'blank', 'Zipcode_Group_Zipcode_Group_5']\n",
      "['blank', 'blank', 'blank', 'blank', 'Zipcode_Group_Zipcode_Group_6']\n",
      "['blank', 'blank', 'blank', 'blank', 'Zipcode_Group_Zipcode_Group_7']\n",
      "['blank', 'blank', 'blank', 'blank', 'Zipcode_Group_Zipcode_Group_8']\n",
      "['blank', 'blank', 'blank', 'blank', 'Zipcode_Group_Zipcode_Group_9']\n"
     ]
    }
   ],
   "source": [
    "\n",
    "f_col=[]\n",
    "history=[]\n",
    "for i in range(5):\n",
    " f_col.append('blank')\n",
    " tmp = f_col[:]\n",
    " Rmax = -1\n",
    " for var in k:\n",
    "   tmp[-1] = var\n",
    "   print(tmp)"
   ]
  },
  {
   "cell_type": "code",
   "execution_count": null,
   "id": "6e5ecfba",
   "metadata": {},
   "outputs": [],
   "source": []
  }
 ],
 "metadata": {
  "kernelspec": {
   "display_name": "Python 3 (ipykernel)",
   "language": "python",
   "name": "python3"
  },
  "language_info": {
   "codemirror_mode": {
    "name": "ipython",
    "version": 3
   },
   "file_extension": ".py",
   "mimetype": "text/x-python",
   "name": "python",
   "nbconvert_exporter": "python",
   "pygments_lexer": "ipython3",
   "version": "3.9.12"
  }
 },
 "nbformat": 4,
 "nbformat_minor": 5
}
