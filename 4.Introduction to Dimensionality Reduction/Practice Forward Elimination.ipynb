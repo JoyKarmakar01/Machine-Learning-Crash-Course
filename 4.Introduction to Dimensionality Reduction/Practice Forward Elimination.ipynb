{
 "cells": [
  {
   "cell_type": "markdown",
   "id": "3ddc9727",
   "metadata": {},
   "source": [
    "# Practice Forward Elimination"
   ]
  },
  {
   "cell_type": "code",
   "execution_count": 1,
   "id": "37b3e750",
   "metadata": {},
   "outputs": [],
   "source": [
    "import numpy as np\n",
    "import pandas as pd"
   ]
  },
  {
   "cell_type": "code",
   "execution_count": 2,
   "id": "b47e86d5",
   "metadata": {},
   "outputs": [],
   "source": [
    "data = pd.read_csv('Transformed_Housing_Data2.csv')"
   ]
  },
  {
   "cell_type": "code",
   "execution_count": 5,
   "id": "83353bfe",
   "metadata": {},
   "outputs": [],
   "source": [
    "from sklearn.preprocessing import StandardScaler\n",
    "scaler = StandardScaler()\n",
    "Y = data['Sale_Price']\n",
    "X = scaler.fit_transform(data.drop(columns = ['Sale_Price']))"
   ]
  },
  {
   "cell_type": "code",
   "execution_count": 6,
   "id": "2e673573",
   "metadata": {},
   "outputs": [
    {
     "data": {
      "text/plain": [
       "array([[-0.39872425, -1.44752588, -0.97990474, ..., -0.11227393,\n",
       "        -0.16884974, -0.04815825],\n",
       "       [-0.39872425,  0.1756844 ,  0.53371803, ..., -0.11227393,\n",
       "        -0.16884974, -0.04815825],\n",
       "       [-1.4741152 , -1.44752588, -1.42636901, ..., -0.11227393,\n",
       "        -0.16884974, -0.04815825],\n",
       "       ...,\n",
       "       [-1.4741152 , -1.77216793, -1.1541347 , ..., -0.11227393,\n",
       "        -0.16884974, -0.04815825],\n",
       "       [-0.39872425,  0.50032645, -0.5225511 , ..., -0.11227393,\n",
       "        -0.16884974, -0.04815825],\n",
       "       [-1.4741152 , -1.77216793, -1.1541347 , ..., -0.11227393,\n",
       "        -0.16884974, -0.04815825]])"
      ]
     },
     "execution_count": 6,
     "metadata": {},
     "output_type": "execute_result"
    }
   ],
   "source": [
    "X"
   ]
  },
  {
   "cell_type": "code",
   "execution_count": 8,
   "id": "3242b7fc",
   "metadata": {},
   "outputs": [],
   "source": [
    "X = pd.DataFrame(data = X, columns = data.drop(columns=['Sale_Price']).columns)"
   ]
  },
  {
   "cell_type": "code",
   "execution_count": 9,
   "id": "0c97f672",
   "metadata": {},
   "outputs": [
    {
     "data": {
      "text/html": [
       "<div>\n",
       "<style scoped>\n",
       "    .dataframe tbody tr th:only-of-type {\n",
       "        vertical-align: middle;\n",
       "    }\n",
       "\n",
       "    .dataframe tbody tr th {\n",
       "        vertical-align: top;\n",
       "    }\n",
       "\n",
       "    .dataframe thead th {\n",
       "        text-align: right;\n",
       "    }\n",
       "</style>\n",
       "<table border=\"1\" class=\"dataframe\">\n",
       "  <thead>\n",
       "    <tr style=\"text-align: right;\">\n",
       "      <th></th>\n",
       "      <th>No of Bedrooms</th>\n",
       "      <th>No of Bathrooms</th>\n",
       "      <th>Flat Area (in Sqft)</th>\n",
       "      <th>Lot Area (in Sqft)</th>\n",
       "      <th>No of Floors</th>\n",
       "      <th>No of Times Visited</th>\n",
       "      <th>Overall Grade</th>\n",
       "      <th>Area of the House from Basement (in Sqft)</th>\n",
       "      <th>Basement Area (in Sqft)</th>\n",
       "      <th>Age of House (in Years)</th>\n",
       "      <th>...</th>\n",
       "      <th>Waterfront_View_Yes</th>\n",
       "      <th>Zipcode_Group_Zipcode_Group_1</th>\n",
       "      <th>Zipcode_Group_Zipcode_Group_2</th>\n",
       "      <th>Zipcode_Group_Zipcode_Group_3</th>\n",
       "      <th>Zipcode_Group_Zipcode_Group_4</th>\n",
       "      <th>Zipcode_Group_Zipcode_Group_5</th>\n",
       "      <th>Zipcode_Group_Zipcode_Group_6</th>\n",
       "      <th>Zipcode_Group_Zipcode_Group_7</th>\n",
       "      <th>Zipcode_Group_Zipcode_Group_8</th>\n",
       "      <th>Zipcode_Group_Zipcode_Group_9</th>\n",
       "    </tr>\n",
       "  </thead>\n",
       "  <tbody>\n",
       "    <tr>\n",
       "      <th>0</th>\n",
       "      <td>-0.398724</td>\n",
       "      <td>-1.447526</td>\n",
       "      <td>-0.979905</td>\n",
       "      <td>-0.228291</td>\n",
       "      <td>-0.915389</td>\n",
       "      <td>-0.30579</td>\n",
       "      <td>-0.563993</td>\n",
       "      <td>-0.734722</td>\n",
       "      <td>-0.658697</td>\n",
       "      <td>0.544734</td>\n",
       "      <td>...</td>\n",
       "      <td>-0.087181</td>\n",
       "      <td>-0.350481</td>\n",
       "      <td>-0.482158</td>\n",
       "      <td>-0.419600</td>\n",
       "      <td>-0.479094</td>\n",
       "      <td>-0.214086</td>\n",
       "      <td>-0.287712</td>\n",
       "      <td>-0.112274</td>\n",
       "      <td>-0.16885</td>\n",
       "      <td>-0.048158</td>\n",
       "    </tr>\n",
       "    <tr>\n",
       "      <th>1</th>\n",
       "      <td>-0.398724</td>\n",
       "      <td>0.175684</td>\n",
       "      <td>0.533718</td>\n",
       "      <td>-0.189858</td>\n",
       "      <td>0.936817</td>\n",
       "      <td>-0.30579</td>\n",
       "      <td>-0.563993</td>\n",
       "      <td>0.460990</td>\n",
       "      <td>0.245134</td>\n",
       "      <td>0.680915</td>\n",
       "      <td>...</td>\n",
       "      <td>-0.087181</td>\n",
       "      <td>-0.350481</td>\n",
       "      <td>2.074011</td>\n",
       "      <td>-0.419600</td>\n",
       "      <td>-0.479094</td>\n",
       "      <td>-0.214086</td>\n",
       "      <td>-0.287712</td>\n",
       "      <td>-0.112274</td>\n",
       "      <td>-0.16885</td>\n",
       "      <td>-0.048158</td>\n",
       "    </tr>\n",
       "    <tr>\n",
       "      <th>2</th>\n",
       "      <td>-1.474115</td>\n",
       "      <td>-1.447526</td>\n",
       "      <td>-1.426369</td>\n",
       "      <td>-0.123276</td>\n",
       "      <td>-0.915389</td>\n",
       "      <td>-0.30579</td>\n",
       "      <td>-1.468566</td>\n",
       "      <td>-1.229916</td>\n",
       "      <td>-0.658697</td>\n",
       "      <td>1.293731</td>\n",
       "      <td>...</td>\n",
       "      <td>-0.087181</td>\n",
       "      <td>-0.350481</td>\n",
       "      <td>2.074011</td>\n",
       "      <td>-0.419600</td>\n",
       "      <td>-0.479094</td>\n",
       "      <td>-0.214086</td>\n",
       "      <td>-0.287712</td>\n",
       "      <td>-0.112274</td>\n",
       "      <td>-0.16885</td>\n",
       "      <td>-0.048158</td>\n",
       "    </tr>\n",
       "    <tr>\n",
       "      <th>3</th>\n",
       "      <td>0.676667</td>\n",
       "      <td>1.149611</td>\n",
       "      <td>-0.130534</td>\n",
       "      <td>-0.243983</td>\n",
       "      <td>-0.915389</td>\n",
       "      <td>-0.30579</td>\n",
       "      <td>-0.563993</td>\n",
       "      <td>-0.891735</td>\n",
       "      <td>1.397518</td>\n",
       "      <td>0.204281</td>\n",
       "      <td>...</td>\n",
       "      <td>-0.087181</td>\n",
       "      <td>-0.350481</td>\n",
       "      <td>-0.482158</td>\n",
       "      <td>2.383223</td>\n",
       "      <td>-0.479094</td>\n",
       "      <td>-0.214086</td>\n",
       "      <td>-0.287712</td>\n",
       "      <td>-0.112274</td>\n",
       "      <td>-0.16885</td>\n",
       "      <td>-0.048158</td>\n",
       "    </tr>\n",
       "    <tr>\n",
       "      <th>4</th>\n",
       "      <td>-0.398724</td>\n",
       "      <td>-0.148958</td>\n",
       "      <td>-0.435436</td>\n",
       "      <td>-0.169628</td>\n",
       "      <td>-0.915389</td>\n",
       "      <td>-0.30579</td>\n",
       "      <td>0.340581</td>\n",
       "      <td>-0.130827</td>\n",
       "      <td>-0.658697</td>\n",
       "      <td>-0.544715</td>\n",
       "      <td>...</td>\n",
       "      <td>-0.087181</td>\n",
       "      <td>-0.350481</td>\n",
       "      <td>-0.482158</td>\n",
       "      <td>-0.419600</td>\n",
       "      <td>2.087275</td>\n",
       "      <td>-0.214086</td>\n",
       "      <td>-0.287712</td>\n",
       "      <td>-0.112274</td>\n",
       "      <td>-0.16885</td>\n",
       "      <td>-0.048158</td>\n",
       "    </tr>\n",
       "    <tr>\n",
       "      <th>...</th>\n",
       "      <td>...</td>\n",
       "      <td>...</td>\n",
       "      <td>...</td>\n",
       "      <td>...</td>\n",
       "      <td>...</td>\n",
       "      <td>...</td>\n",
       "      <td>...</td>\n",
       "      <td>...</td>\n",
       "      <td>...</td>\n",
       "      <td>...</td>\n",
       "      <td>...</td>\n",
       "      <td>...</td>\n",
       "      <td>...</td>\n",
       "      <td>...</td>\n",
       "      <td>...</td>\n",
       "      <td>...</td>\n",
       "      <td>...</td>\n",
       "      <td>...</td>\n",
       "      <td>...</td>\n",
       "      <td>...</td>\n",
       "      <td>...</td>\n",
       "    </tr>\n",
       "    <tr>\n",
       "      <th>21604</th>\n",
       "      <td>-0.398724</td>\n",
       "      <td>0.500326</td>\n",
       "      <td>-0.598777</td>\n",
       "      <td>-0.337386</td>\n",
       "      <td>2.789023</td>\n",
       "      <td>-0.30579</td>\n",
       "      <td>0.340581</td>\n",
       "      <td>-0.311996</td>\n",
       "      <td>-0.658697</td>\n",
       "      <td>-1.293712</td>\n",
       "      <td>...</td>\n",
       "      <td>-0.087181</td>\n",
       "      <td>-0.350481</td>\n",
       "      <td>-0.482158</td>\n",
       "      <td>2.383223</td>\n",
       "      <td>-0.479094</td>\n",
       "      <td>-0.214086</td>\n",
       "      <td>-0.287712</td>\n",
       "      <td>-0.112274</td>\n",
       "      <td>-0.16885</td>\n",
       "      <td>-0.048158</td>\n",
       "    </tr>\n",
       "    <tr>\n",
       "      <th>21605</th>\n",
       "      <td>0.676667</td>\n",
       "      <td>0.500326</td>\n",
       "      <td>0.250594</td>\n",
       "      <td>-0.224356</td>\n",
       "      <td>0.936817</td>\n",
       "      <td>-0.30579</td>\n",
       "      <td>0.340581</td>\n",
       "      <td>0.630080</td>\n",
       "      <td>-0.658697</td>\n",
       "      <td>-1.463938</td>\n",
       "      <td>...</td>\n",
       "      <td>-0.087181</td>\n",
       "      <td>2.853220</td>\n",
       "      <td>-0.482158</td>\n",
       "      <td>-0.419600</td>\n",
       "      <td>-0.479094</td>\n",
       "      <td>-0.214086</td>\n",
       "      <td>-0.287712</td>\n",
       "      <td>-0.112274</td>\n",
       "      <td>-0.16885</td>\n",
       "      <td>-0.048158</td>\n",
       "    </tr>\n",
       "    <tr>\n",
       "      <th>21606</th>\n",
       "      <td>-1.474115</td>\n",
       "      <td>-1.772168</td>\n",
       "      <td>-1.154135</td>\n",
       "      <td>-0.332099</td>\n",
       "      <td>0.936817</td>\n",
       "      <td>-0.30579</td>\n",
       "      <td>-0.563993</td>\n",
       "      <td>-0.927969</td>\n",
       "      <td>-0.658697</td>\n",
       "      <td>-1.293712</td>\n",
       "      <td>...</td>\n",
       "      <td>-0.087181</td>\n",
       "      <td>-0.350481</td>\n",
       "      <td>-0.482158</td>\n",
       "      <td>2.383223</td>\n",
       "      <td>-0.479094</td>\n",
       "      <td>-0.214086</td>\n",
       "      <td>-0.287712</td>\n",
       "      <td>-0.112274</td>\n",
       "      <td>-0.16885</td>\n",
       "      <td>-0.048158</td>\n",
       "    </tr>\n",
       "    <tr>\n",
       "      <th>21607</th>\n",
       "      <td>-0.398724</td>\n",
       "      <td>0.500326</td>\n",
       "      <td>-0.522551</td>\n",
       "      <td>-0.307041</td>\n",
       "      <td>0.936817</td>\n",
       "      <td>-0.30579</td>\n",
       "      <td>0.340581</td>\n",
       "      <td>-0.227451</td>\n",
       "      <td>-0.658697</td>\n",
       "      <td>-1.123485</td>\n",
       "      <td>...</td>\n",
       "      <td>-0.087181</td>\n",
       "      <td>-0.350481</td>\n",
       "      <td>-0.482158</td>\n",
       "      <td>-0.419600</td>\n",
       "      <td>2.087275</td>\n",
       "      <td>-0.214086</td>\n",
       "      <td>-0.287712</td>\n",
       "      <td>-0.112274</td>\n",
       "      <td>-0.16885</td>\n",
       "      <td>-0.048158</td>\n",
       "    </tr>\n",
       "    <tr>\n",
       "      <th>21608</th>\n",
       "      <td>-1.474115</td>\n",
       "      <td>-1.772168</td>\n",
       "      <td>-1.154135</td>\n",
       "      <td>-0.338714</td>\n",
       "      <td>0.936817</td>\n",
       "      <td>-0.30579</td>\n",
       "      <td>-0.563993</td>\n",
       "      <td>-0.927969</td>\n",
       "      <td>-0.658697</td>\n",
       "      <td>-1.259666</td>\n",
       "      <td>...</td>\n",
       "      <td>-0.087181</td>\n",
       "      <td>-0.350481</td>\n",
       "      <td>-0.482158</td>\n",
       "      <td>2.383223</td>\n",
       "      <td>-0.479094</td>\n",
       "      <td>-0.214086</td>\n",
       "      <td>-0.287712</td>\n",
       "      <td>-0.112274</td>\n",
       "      <td>-0.16885</td>\n",
       "      <td>-0.048158</td>\n",
       "    </tr>\n",
       "  </tbody>\n",
       "</table>\n",
       "<p>21609 rows × 30 columns</p>\n",
       "</div>"
      ],
      "text/plain": [
       "       No of Bedrooms  No of Bathrooms  Flat Area (in Sqft)  \\\n",
       "0           -0.398724        -1.447526            -0.979905   \n",
       "1           -0.398724         0.175684             0.533718   \n",
       "2           -1.474115        -1.447526            -1.426369   \n",
       "3            0.676667         1.149611            -0.130534   \n",
       "4           -0.398724        -0.148958            -0.435436   \n",
       "...               ...              ...                  ...   \n",
       "21604       -0.398724         0.500326            -0.598777   \n",
       "21605        0.676667         0.500326             0.250594   \n",
       "21606       -1.474115        -1.772168            -1.154135   \n",
       "21607       -0.398724         0.500326            -0.522551   \n",
       "21608       -1.474115        -1.772168            -1.154135   \n",
       "\n",
       "       Lot Area (in Sqft)  No of Floors  No of Times Visited  Overall Grade  \\\n",
       "0               -0.228291     -0.915389             -0.30579      -0.563993   \n",
       "1               -0.189858      0.936817             -0.30579      -0.563993   \n",
       "2               -0.123276     -0.915389             -0.30579      -1.468566   \n",
       "3               -0.243983     -0.915389             -0.30579      -0.563993   \n",
       "4               -0.169628     -0.915389             -0.30579       0.340581   \n",
       "...                   ...           ...                  ...            ...   \n",
       "21604           -0.337386      2.789023             -0.30579       0.340581   \n",
       "21605           -0.224356      0.936817             -0.30579       0.340581   \n",
       "21606           -0.332099      0.936817             -0.30579      -0.563993   \n",
       "21607           -0.307041      0.936817             -0.30579       0.340581   \n",
       "21608           -0.338714      0.936817             -0.30579      -0.563993   \n",
       "\n",
       "       Area of the House from Basement (in Sqft)  Basement Area (in Sqft)  \\\n",
       "0                                      -0.734722                -0.658697   \n",
       "1                                       0.460990                 0.245134   \n",
       "2                                      -1.229916                -0.658697   \n",
       "3                                      -0.891735                 1.397518   \n",
       "4                                      -0.130827                -0.658697   \n",
       "...                                          ...                      ...   \n",
       "21604                                  -0.311996                -0.658697   \n",
       "21605                                   0.630080                -0.658697   \n",
       "21606                                  -0.927969                -0.658697   \n",
       "21607                                  -0.227451                -0.658697   \n",
       "21608                                  -0.927969                -0.658697   \n",
       "\n",
       "       Age of House (in Years)  ...  Waterfront_View_Yes  \\\n",
       "0                     0.544734  ...            -0.087181   \n",
       "1                     0.680915  ...            -0.087181   \n",
       "2                     1.293731  ...            -0.087181   \n",
       "3                     0.204281  ...            -0.087181   \n",
       "4                    -0.544715  ...            -0.087181   \n",
       "...                        ...  ...                  ...   \n",
       "21604                -1.293712  ...            -0.087181   \n",
       "21605                -1.463938  ...            -0.087181   \n",
       "21606                -1.293712  ...            -0.087181   \n",
       "21607                -1.123485  ...            -0.087181   \n",
       "21608                -1.259666  ...            -0.087181   \n",
       "\n",
       "       Zipcode_Group_Zipcode_Group_1  Zipcode_Group_Zipcode_Group_2  \\\n",
       "0                          -0.350481                      -0.482158   \n",
       "1                          -0.350481                       2.074011   \n",
       "2                          -0.350481                       2.074011   \n",
       "3                          -0.350481                      -0.482158   \n",
       "4                          -0.350481                      -0.482158   \n",
       "...                              ...                            ...   \n",
       "21604                      -0.350481                      -0.482158   \n",
       "21605                       2.853220                      -0.482158   \n",
       "21606                      -0.350481                      -0.482158   \n",
       "21607                      -0.350481                      -0.482158   \n",
       "21608                      -0.350481                      -0.482158   \n",
       "\n",
       "       Zipcode_Group_Zipcode_Group_3  Zipcode_Group_Zipcode_Group_4  \\\n",
       "0                          -0.419600                      -0.479094   \n",
       "1                          -0.419600                      -0.479094   \n",
       "2                          -0.419600                      -0.479094   \n",
       "3                           2.383223                      -0.479094   \n",
       "4                          -0.419600                       2.087275   \n",
       "...                              ...                            ...   \n",
       "21604                       2.383223                      -0.479094   \n",
       "21605                      -0.419600                      -0.479094   \n",
       "21606                       2.383223                      -0.479094   \n",
       "21607                      -0.419600                       2.087275   \n",
       "21608                       2.383223                      -0.479094   \n",
       "\n",
       "       Zipcode_Group_Zipcode_Group_5  Zipcode_Group_Zipcode_Group_6  \\\n",
       "0                          -0.214086                      -0.287712   \n",
       "1                          -0.214086                      -0.287712   \n",
       "2                          -0.214086                      -0.287712   \n",
       "3                          -0.214086                      -0.287712   \n",
       "4                          -0.214086                      -0.287712   \n",
       "...                              ...                            ...   \n",
       "21604                      -0.214086                      -0.287712   \n",
       "21605                      -0.214086                      -0.287712   \n",
       "21606                      -0.214086                      -0.287712   \n",
       "21607                      -0.214086                      -0.287712   \n",
       "21608                      -0.214086                      -0.287712   \n",
       "\n",
       "       Zipcode_Group_Zipcode_Group_7  Zipcode_Group_Zipcode_Group_8  \\\n",
       "0                          -0.112274                       -0.16885   \n",
       "1                          -0.112274                       -0.16885   \n",
       "2                          -0.112274                       -0.16885   \n",
       "3                          -0.112274                       -0.16885   \n",
       "4                          -0.112274                       -0.16885   \n",
       "...                              ...                            ...   \n",
       "21604                      -0.112274                       -0.16885   \n",
       "21605                      -0.112274                       -0.16885   \n",
       "21606                      -0.112274                       -0.16885   \n",
       "21607                      -0.112274                       -0.16885   \n",
       "21608                      -0.112274                       -0.16885   \n",
       "\n",
       "       Zipcode_Group_Zipcode_Group_9  \n",
       "0                          -0.048158  \n",
       "1                          -0.048158  \n",
       "2                          -0.048158  \n",
       "3                          -0.048158  \n",
       "4                          -0.048158  \n",
       "...                              ...  \n",
       "21604                      -0.048158  \n",
       "21605                      -0.048158  \n",
       "21606                      -0.048158  \n",
       "21607                      -0.048158  \n",
       "21608                      -0.048158  \n",
       "\n",
       "[21609 rows x 30 columns]"
      ]
     },
     "execution_count": 9,
     "metadata": {},
     "output_type": "execute_result"
    }
   ],
   "source": [
    "X"
   ]
  },
  {
   "cell_type": "code",
   "execution_count": 10,
   "id": "d530d45c",
   "metadata": {},
   "outputs": [
    {
     "data": {
      "text/plain": [
       "0        221900.0\n",
       "1        538000.0\n",
       "2        180000.0\n",
       "3        604000.0\n",
       "4        510000.0\n",
       "           ...   \n",
       "21604    360000.0\n",
       "21605    400000.0\n",
       "21606    402101.0\n",
       "21607    400000.0\n",
       "21608    325000.0\n",
       "Name: Sale_Price, Length: 21609, dtype: float64"
      ]
     },
     "execution_count": 10,
     "metadata": {},
     "output_type": "execute_result"
    }
   ],
   "source": [
    "Y"
   ]
  },
  {
   "cell_type": "code",
   "execution_count": 11,
   "id": "5e114e74",
   "metadata": {},
   "outputs": [
    {
     "data": {
      "text/plain": [
       "((15126, 30), (6483, 30), (15126,), (6483,))"
      ]
     },
     "execution_count": 11,
     "metadata": {},
     "output_type": "execute_result"
    }
   ],
   "source": [
    "from sklearn.model_selection import train_test_split\n",
    "x_train, x_test, y_train, y_test = train_test_split(X, Y, test_size = 0.3, random_state = 101)\n",
    "\n",
    "x_train.shape, x_test.shape, y_train.shape, y_test.shape"
   ]
  },
  {
   "cell_type": "code",
   "execution_count": 12,
   "id": "5c0a2ed1",
   "metadata": {},
   "outputs": [
    {
     "data": {
      "text/html": [
       "<style>#sk-container-id-1 {color: black;}#sk-container-id-1 pre{padding: 0;}#sk-container-id-1 div.sk-toggleable {background-color: white;}#sk-container-id-1 label.sk-toggleable__label {cursor: pointer;display: block;width: 100%;margin-bottom: 0;padding: 0.3em;box-sizing: border-box;text-align: center;}#sk-container-id-1 label.sk-toggleable__label-arrow:before {content: \"▸\";float: left;margin-right: 0.25em;color: #696969;}#sk-container-id-1 label.sk-toggleable__label-arrow:hover:before {color: black;}#sk-container-id-1 div.sk-estimator:hover label.sk-toggleable__label-arrow:before {color: black;}#sk-container-id-1 div.sk-toggleable__content {max-height: 0;max-width: 0;overflow: hidden;text-align: left;background-color: #f0f8ff;}#sk-container-id-1 div.sk-toggleable__content pre {margin: 0.2em;color: black;border-radius: 0.25em;background-color: #f0f8ff;}#sk-container-id-1 input.sk-toggleable__control:checked~div.sk-toggleable__content {max-height: 200px;max-width: 100%;overflow: auto;}#sk-container-id-1 input.sk-toggleable__control:checked~label.sk-toggleable__label-arrow:before {content: \"▾\";}#sk-container-id-1 div.sk-estimator input.sk-toggleable__control:checked~label.sk-toggleable__label {background-color: #d4ebff;}#sk-container-id-1 div.sk-label input.sk-toggleable__control:checked~label.sk-toggleable__label {background-color: #d4ebff;}#sk-container-id-1 input.sk-hidden--visually {border: 0;clip: rect(1px 1px 1px 1px);clip: rect(1px, 1px, 1px, 1px);height: 1px;margin: -1px;overflow: hidden;padding: 0;position: absolute;width: 1px;}#sk-container-id-1 div.sk-estimator {font-family: monospace;background-color: #f0f8ff;border: 1px dotted black;border-radius: 0.25em;box-sizing: border-box;margin-bottom: 0.5em;}#sk-container-id-1 div.sk-estimator:hover {background-color: #d4ebff;}#sk-container-id-1 div.sk-parallel-item::after {content: \"\";width: 100%;border-bottom: 1px solid gray;flex-grow: 1;}#sk-container-id-1 div.sk-label:hover label.sk-toggleable__label {background-color: #d4ebff;}#sk-container-id-1 div.sk-serial::before {content: \"\";position: absolute;border-left: 1px solid gray;box-sizing: border-box;top: 0;bottom: 0;left: 50%;z-index: 0;}#sk-container-id-1 div.sk-serial {display: flex;flex-direction: column;align-items: center;background-color: white;padding-right: 0.2em;padding-left: 0.2em;position: relative;}#sk-container-id-1 div.sk-item {position: relative;z-index: 1;}#sk-container-id-1 div.sk-parallel {display: flex;align-items: stretch;justify-content: center;background-color: white;position: relative;}#sk-container-id-1 div.sk-item::before, #sk-container-id-1 div.sk-parallel-item::before {content: \"\";position: absolute;border-left: 1px solid gray;box-sizing: border-box;top: 0;bottom: 0;left: 50%;z-index: -1;}#sk-container-id-1 div.sk-parallel-item {display: flex;flex-direction: column;z-index: 1;position: relative;background-color: white;}#sk-container-id-1 div.sk-parallel-item:first-child::after {align-self: flex-end;width: 50%;}#sk-container-id-1 div.sk-parallel-item:last-child::after {align-self: flex-start;width: 50%;}#sk-container-id-1 div.sk-parallel-item:only-child::after {width: 0;}#sk-container-id-1 div.sk-dashed-wrapped {border: 1px dashed gray;margin: 0 0.4em 0.5em 0.4em;box-sizing: border-box;padding-bottom: 0.4em;background-color: white;}#sk-container-id-1 div.sk-label label {font-family: monospace;font-weight: bold;display: inline-block;line-height: 1.2em;}#sk-container-id-1 div.sk-label-container {text-align: center;}#sk-container-id-1 div.sk-container {/* jupyter's `normalize.less` sets `[hidden] { display: none; }` but bootstrap.min.css set `[hidden] { display: none !important; }` so we also need the `!important` here to be able to override the default hidden behavior on the sphinx rendered scikit-learn.org. See: https://github.com/scikit-learn/scikit-learn/issues/21755 */display: inline-block !important;position: relative;}#sk-container-id-1 div.sk-text-repr-fallback {display: none;}</style><div id=\"sk-container-id-1\" class=\"sk-top-container\"><div class=\"sk-text-repr-fallback\"><pre>LinearRegression()</pre><b>In a Jupyter environment, please rerun this cell to show the HTML representation or trust the notebook. <br />On GitHub, the HTML representation is unable to render, please try loading this page with nbviewer.org.</b></div><div class=\"sk-container\" hidden><div class=\"sk-item\"><div class=\"sk-estimator sk-toggleable\"><input class=\"sk-toggleable__control sk-hidden--visually\" id=\"sk-estimator-id-1\" type=\"checkbox\" checked><label for=\"sk-estimator-id-1\" class=\"sk-toggleable__label sk-toggleable__label-arrow\">LinearRegression</label><div class=\"sk-toggleable__content\"><pre>LinearRegression()</pre></div></div></div></div></div>"
      ],
      "text/plain": [
       "LinearRegression()"
      ]
     },
     "execution_count": 12,
     "metadata": {},
     "output_type": "execute_result"
    }
   ],
   "source": [
    "from sklearn.linear_model import LinearRegression\n",
    "lr = LinearRegression()\n",
    "lr.fit(x_train,y_train)"
   ]
  },
  {
   "cell_type": "code",
   "execution_count": 16,
   "id": "332db8ce",
   "metadata": {},
   "outputs": [
    {
     "data": {
      "text/plain": [
       "array([ -3995.28591458,  11902.27793003, 101937.22434576,  15031.10713549,\n",
       "         2739.41413335,  27228.52739147,  59655.12354705, -11021.94849251,\n",
       "       -21376.61844027,  28026.87248814,  21383.31819922, -23863.46356065,\n",
       "        18135.87459276,  -2950.64270197, -10199.35434129,  30813.12311568,\n",
       "        29521.356377  ,  32205.65517171,   3153.31349292,  14561.0226321 ,\n",
       "        10798.73914992,  12141.12475095,  33834.10169629,  63262.46919428,\n",
       "        81093.98126044,  50696.91127205,  73288.36977146,  40180.96604032,\n",
       "        67426.94575079,  22107.36723561])"
      ]
     },
     "execution_count": 16,
     "metadata": {},
     "output_type": "execute_result"
    }
   ],
   "source": [
    "lr.coef_"
   ]
  },
  {
   "cell_type": "code",
   "execution_count": 18,
   "id": "19b50027",
   "metadata": {},
   "outputs": [
    {
     "data": {
      "text/plain": [
       "511928.77702658705"
      ]
     },
     "execution_count": 18,
     "metadata": {},
     "output_type": "execute_result"
    }
   ],
   "source": [
    "lr.intercept_"
   ]
  },
  {
   "cell_type": "code",
   "execution_count": 19,
   "id": "ec95d8c3",
   "metadata": {},
   "outputs": [],
   "source": [
    "prediction = lr.predict(x_test)"
   ]
  },
  {
   "cell_type": "code",
   "execution_count": 22,
   "id": "6f6c0259",
   "metadata": {},
   "outputs": [
    {
     "data": {
      "text/plain": [
       "0.8462355542468781"
      ]
     },
     "execution_count": 22,
     "metadata": {},
     "output_type": "execute_result"
    }
   ],
   "source": [
    "lr.score(x_test,y_test)"
   ]
  },
  {
   "cell_type": "markdown",
   "id": "aa593732",
   "metadata": {},
   "source": [
    "# Adjusted R-Square"
   ]
  },
  {
   "cell_type": "code",
   "execution_count": 30,
   "id": "ec8a1b1b",
   "metadata": {},
   "outputs": [],
   "source": [
    "def adj_r2(X,Y,pred):\n",
    "    from sklearn.metrics import r2_score\n",
    "    R = r2_score(Y,pred)\n",
    "    n = len(Y)\n",
    "    m = len(X.columns)\n",
    "    adj_R = 1 - ((1-R)*(n-1))/(n-m-1)\n",
    "    return adj_R"
   ]
  },
  {
   "cell_type": "raw",
   "id": "87db8ba8",
   "metadata": {},
   "source": [
    "adj_r2(x_test, y_test, prediction)"
   ]
  },
  {
   "cell_type": "code",
   "execution_count": 31,
   "id": "f1851fbb",
   "metadata": {},
   "outputs": [],
   "source": [
    "def return_r2(X, Y, model):\n",
    "    model.fit(X,Y)\n",
    "    pred = model.predict(X)\n",
    "    r2 = adj_r2(X,Y, pred)\n",
    "    return r2"
   ]
  },
  {
   "cell_type": "code",
   "execution_count": 35,
   "id": "fde77307",
   "metadata": {},
   "outputs": [],
   "source": [
    "f_col = []\n",
    "for i in range(5):\n",
    "    f_col.append('blank')\n",
    "    tmp = f_col[:]"
   ]
  },
  {
   "cell_type": "code",
   "execution_count": 42,
   "id": "a57d742f",
   "metadata": {},
   "outputs": [
    {
     "name": "stdout",
     "output_type": "stream",
     "text": [
      "['blank', 'blank', 'blank', 'blank', 'blank']\n"
     ]
    }
   ],
   "source": [
    "print(f_col)"
   ]
  },
  {
   "cell_type": "code",
   "execution_count": 45,
   "id": "cf5b0f57",
   "metadata": {},
   "outputs": [],
   "source": [
    "tmp = f_col[:]"
   ]
  },
  {
   "cell_type": "code",
   "execution_count": 46,
   "id": "20f5231b",
   "metadata": {},
   "outputs": [
    {
     "data": {
      "text/plain": [
       "['blank', 'blank', 'blank', 'blank', 'blank']"
      ]
     },
     "execution_count": 46,
     "metadata": {},
     "output_type": "execute_result"
    }
   ],
   "source": [
    "tmp"
   ]
  },
  {
   "cell_type": "code",
   "execution_count": 48,
   "id": "1315ed53",
   "metadata": {},
   "outputs": [
    {
     "data": {
      "text/plain": [
       "Index(['No of Bedrooms', 'No of Bathrooms', 'Flat Area (in Sqft)',\n",
       "       'Lot Area (in Sqft)', 'No of Floors', 'No of Times Visited',\n",
       "       'Overall Grade', 'Area of the House from Basement (in Sqft)',\n",
       "       'Basement Area (in Sqft)', 'Age of House (in Years)', 'Latitude',\n",
       "       'Longitude', 'Living Area after Renovation (in Sqft)',\n",
       "       'Lot Area after Renovation (in Sqft)', 'Years Since Renovation',\n",
       "       'Condition_of_the_House_Excellent', 'Condition_of_the_House_Fair',\n",
       "       'Condition_of_the_House_Good', 'Condition_of_the_House_Okay',\n",
       "       'Ever_Renovated_Yes', 'Waterfront_View_Yes',\n",
       "       'Zipcode_Group_Zipcode_Group_1', 'Zipcode_Group_Zipcode_Group_2',\n",
       "       'Zipcode_Group_Zipcode_Group_3', 'Zipcode_Group_Zipcode_Group_4',\n",
       "       'Zipcode_Group_Zipcode_Group_5', 'Zipcode_Group_Zipcode_Group_6',\n",
       "       'Zipcode_Group_Zipcode_Group_7', 'Zipcode_Group_Zipcode_Group_8',\n",
       "       'Zipcode_Group_Zipcode_Group_9'],\n",
       "      dtype='object')"
      ]
     },
     "execution_count": 48,
     "metadata": {},
     "output_type": "execute_result"
    }
   ],
   "source": [
    "X.columns"
   ]
  },
  {
   "cell_type": "code",
   "execution_count": 50,
   "id": "11950c2a",
   "metadata": {},
   "outputs": [
    {
     "data": {
      "text/plain": [
       "50"
      ]
     },
     "execution_count": 50,
     "metadata": {},
     "output_type": "execute_result"
    }
   ],
   "source": [
    "tmp=[10,20,30,40,50]\n",
    "tmp[-1]"
   ]
  },
  {
   "cell_type": "code",
   "execution_count": 49,
   "id": "9ca32583",
   "metadata": {},
   "outputs": [
    {
     "name": "stdout",
     "output_type": "stream",
     "text": [
      "No of Bedrooms\n",
      "No of Bathrooms\n",
      "Flat Area (in Sqft)\n",
      "Lot Area (in Sqft)\n",
      "No of Floors\n",
      "No of Times Visited\n",
      "Overall Grade\n",
      "Area of the House from Basement (in Sqft)\n",
      "Basement Area (in Sqft)\n",
      "Age of House (in Years)\n",
      "Latitude\n",
      "Longitude\n",
      "Living Area after Renovation (in Sqft)\n",
      "Lot Area after Renovation (in Sqft)\n",
      "Years Since Renovation\n",
      "Condition_of_the_House_Excellent\n",
      "Condition_of_the_House_Fair\n",
      "Condition_of_the_House_Good\n",
      "Condition_of_the_House_Okay\n",
      "Ever_Renovated_Yes\n",
      "Waterfront_View_Yes\n",
      "Zipcode_Group_Zipcode_Group_1\n",
      "Zipcode_Group_Zipcode_Group_2\n",
      "Zipcode_Group_Zipcode_Group_3\n",
      "Zipcode_Group_Zipcode_Group_4\n",
      "Zipcode_Group_Zipcode_Group_5\n",
      "Zipcode_Group_Zipcode_Group_6\n",
      "Zipcode_Group_Zipcode_Group_7\n",
      "Zipcode_Group_Zipcode_Group_8\n",
      "Zipcode_Group_Zipcode_Group_9\n"
     ]
    }
   ],
   "source": [
    "for var in X.columns:\n",
    "    print(var)"
   ]
  },
  {
   "cell_type": "code",
   "execution_count": null,
   "id": "f00a807a",
   "metadata": {},
   "outputs": [],
   "source": []
  }
 ],
 "metadata": {
  "kernelspec": {
   "display_name": "Python 3 (ipykernel)",
   "language": "python",
   "name": "python3"
  },
  "language_info": {
   "codemirror_mode": {
    "name": "ipython",
    "version": 3
   },
   "file_extension": ".py",
   "mimetype": "text/x-python",
   "name": "python",
   "nbconvert_exporter": "python",
   "pygments_lexer": "ipython3",
   "version": "3.9.12"
  }
 },
 "nbformat": 4,
 "nbformat_minor": 5
}
