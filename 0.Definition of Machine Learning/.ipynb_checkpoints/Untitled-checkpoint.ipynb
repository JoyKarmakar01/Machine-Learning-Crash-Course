{
 "cells": [
  {
   "cell_type": "markdown",
   "id": "a7c730d2",
   "metadata": {},
   "source": [
    "#                                            Machine Learning"
   ]
  },
  {
   "cell_type": "raw",
   "id": "82dcc6e7",
   "metadata": {},
   "source": [
    "## Definition:\n",
    "\n",
    "            Machine Learning is the ability of machines, that is, computer to learn and improve\n",
    "            from their past experience or data, without being explicitly programmed.\n",
    "\n",
    "## List of a few basic applications:\n",
    "\n",
    "        1. Facebook Newsfeed.\n",
    "        2. Facebook photo auto tagging feature.\n",
    "        3. Product recommendations by shopping portals.\n",
    "\n",
    "## Objectives:\n",
    "\n",
    "            Machine Learning Algorithms are constantly analyzing and learning from the data to improve\n",
    "            their future predictions and outcomes automatically.\n",
    "\n",
    "## List of few Advance applications:\n",
    "\n",
    "        1. Identifying Frauds in Banking.\n",
    "        2. Sentiment Analysis.\n",
    "        3. Amazon GO.\n",
    "        4. Chatbots.\n",
    "        5. Self Driven Cars.\n",
    "\n",
    "## What is heart of Machine Learning?\n",
    "--> Data.\n",
    "\n",
    "## Machine learning cylce?\n",
    "\n",
    "        --> Past Experience ---- Patern Recognition ----- Predictions.\n",
    "\n",
    "        --> Data --- ML model (Black Box) --- Intelligence --- New Data --- Predictions/Recommendations. "
   ]
  },
  {
   "cell_type": "markdown",
   "id": "32f8d62a",
   "metadata": {},
   "source": [
    "# Types of Machine Learning: \n"
   ]
  },
  {
   "cell_type": "code",
   "execution_count": null,
   "id": "c6635083",
   "metadata": {},
   "outputs": [],
   "source": [
    "1. Supervised Machine Learning.\n",
    "2. Unsupervised Machine Learning."
   ]
  },
  {
   "cell_type": "code",
   "execution_count": null,
   "id": "ce0b019b",
   "metadata": {},
   "outputs": [],
   "source": []
  },
  {
   "cell_type": "raw",
   "id": "9dfdda4b",
   "metadata": {},
   "source": [
    "                                            1.Supervised Machine Learning: \n",
    "                                             \n",
    "                                                          |\n",
    "                                                          |\n",
    "                                  --------------------------------------------------\n",
    "                                  |                                                |\n",
    "                                  |                                                |\n",
    "                            \n",
    "                        Classification Models                           Regression Models\n",
    "                        \n",
    "                        Deals: Target Variable.                             Deals: Target Variable.\n",
    "                             : Category Variable                                 : Continous Numerical Variable."
   ]
  },
  {
   "cell_type": "code",
   "execution_count": null,
   "id": "d2d5f04f",
   "metadata": {},
   "outputs": [],
   "source": [
    "2.Unsupervised Machine Learning:\n",
    "    \n",
    "Definition: \n",
    "            The machine learning that is deployed to find patterns in unlabelled data is referred\n",
    "            to as unsupervised machine learning.\n",
    "    \n",
    "Objectives: \n",
    "    \n",
    "        * Complement of Supervised Learning.\n",
    "        * There is no target variable involved.\n",
    "        * Works on only unlabelled data. \n",
    "        * Identify if some pattern exists in the data.\n",
    "    \n"
   ]
  },
  {
   "cell_type": "markdown",
   "id": "e6b4b513",
   "metadata": {},
   "source": [
    "# Data"
   ]
  },
  {
   "cell_type": "raw",
   "id": "6b79c473",
   "metadata": {},
   "source": [
    "Definiton: \n",
    "-----------\n",
    "            Data is a collection of information about something. \n",
    "    \n",
    "Types:\n",
    "------\n",
    "        1.Labelled Data.\n",
    "        2.Unlabelled Data.\n",
    "    \n",
    "1.Labelled Data:\n",
    "-----------------\n",
    "\n",
    "Definiton:   \n",
    "----------\n",
    "        The data which contains a target variable or a dependent variable answering a question of \n",
    "        interest is called labelled data.\n",
    "    \n",
    "Example: \n",
    "---------\n",
    "                        Does the patient has High Blood Pressure?\n",
    "                                ------- (YES/ NO) -------\n",
    "        \n",
    "               This answer is a Target Variable or dependent variable.\n",
    "               Because it depends on some parameters, such as BP level.\n",
    "           \n",
    "2.Unlabelled Data: \n",
    "------------------\n",
    "\n",
    "Defintion: \n",
    "----------\n",
    "            The data which contains information about something but does not have a predefined target variable.\n",
    "    \n",
    "Example: \n",
    "--------    The details of Patient:\n",
    "            --------------------------\n",
    "                Name: \n",
    "                Age: \n",
    "                BP:\n",
    "                Weight:\n",
    "            \n",
    "            these are the examples of unlabelled data. \n",
    "        "
   ]
  }
 ],
 "metadata": {
  "kernelspec": {
   "display_name": "Python 3 (ipykernel)",
   "language": "python",
   "name": "python3"
  },
  "language_info": {
   "codemirror_mode": {
    "name": "ipython",
    "version": 3
   },
   "file_extension": ".py",
   "mimetype": "text/x-python",
   "name": "python",
   "nbconvert_exporter": "python",
   "pygments_lexer": "ipython3",
   "version": "3.9.12"
  }
 },
 "nbformat": 4,
 "nbformat_minor": 5
}
