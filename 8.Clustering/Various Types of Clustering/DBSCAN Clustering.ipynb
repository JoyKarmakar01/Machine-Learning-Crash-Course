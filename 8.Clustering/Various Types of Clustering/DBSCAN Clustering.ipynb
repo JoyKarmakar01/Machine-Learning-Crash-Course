{
 "cells": [
  {
   "cell_type": "code",
   "execution_count": 1,
   "id": "e116fef6",
   "metadata": {},
   "outputs": [],
   "source": [
    "from sklearn.cluster import DBSCAN\n",
    "from sklearn.datasets import make_moons\n",
    "import matplotlib.pyplot as plt\n",
    "%matplotlib inline"
   ]
  },
  {
   "cell_type": "code",
   "execution_count": 2,
   "id": "464eb538",
   "metadata": {},
   "outputs": [],
   "source": [
    "X,y=make_moons(n_samples=250,noise=0.05)"
   ]
  },
  {
   "cell_type": "code",
   "execution_count": 13,
   "id": "2682ac6e",
   "metadata": {
    "collapsed": true
   },
   "outputs": [
    {
     "data": {
      "text/plain": [
       "array([[ 2.79790247e-01,  9.63341413e-01],\n",
       "       [ 3.78894957e-01,  9.60859455e-01],\n",
       "       [-1.75910049e-01,  8.97850715e-01],\n",
       "       [-9.35610168e-01,  9.69151252e-02],\n",
       "       [ 8.46076455e-01, -5.46432449e-01],\n",
       "       [ 7.75299306e-01, -4.82768263e-01],\n",
       "       [ 1.91965571e+00,  1.78878771e-01],\n",
       "       [-9.81564593e-01,  4.44063854e-01],\n",
       "       [ 1.31650242e+00, -5.18006744e-01],\n",
       "       [-2.85700126e-01,  9.19297668e-01],\n",
       "       [-7.73965775e-01,  6.89349733e-01],\n",
       "       [ 9.73832947e-02,  9.40541575e-02],\n",
       "       [-9.51918821e-01,  2.12012925e-01],\n",
       "       [ 1.57768519e-01, -2.64992469e-02],\n",
       "       [ 8.75751562e-01,  5.47957317e-01],\n",
       "       [ 1.77536016e+00, -1.26277913e-01],\n",
       "       [-1.95308806e-01,  9.91452133e-01],\n",
       "       [ 1.97533205e+00,  2.24591567e-01],\n",
       "       [ 4.15008326e-01,  8.76515635e-01],\n",
       "       [ 1.73959008e+00, -1.88500724e-01],\n",
       "       [ 5.44882349e-01,  9.18242794e-01],\n",
       "       [ 4.86400020e-01, -3.61076361e-01],\n",
       "       [ 2.10874921e-01, -8.47763404e-03],\n",
       "       [ 7.44496035e-01,  7.13998261e-01],\n",
       "       [ 1.97389389e+00,  2.15544663e-02],\n",
       "       [ 3.57732115e-01, -3.35905933e-01],\n",
       "       [-2.17000932e-01,  9.77827116e-01],\n",
       "       [ 8.57893878e-01, -5.57637758e-01],\n",
       "       [ 1.14985892e-01, -9.38949354e-02],\n",
       "       [ 1.73156874e+00, -1.83344985e-01],\n",
       "       [ 1.97114890e+00,  2.50874016e-01],\n",
       "       [-1.05531513e+00,  1.45752679e-02],\n",
       "       [ 5.27097150e-01,  9.62710863e-01],\n",
       "       [-6.71020601e-01,  7.31358083e-01],\n",
       "       [ 1.87238108e+00, -6.25114571e-02],\n",
       "       [ 3.82014961e-01,  8.63831416e-01],\n",
       "       [-9.70922977e-01,  2.26394863e-01],\n",
       "       [ 1.53343353e-01, -4.09327807e-02],\n",
       "       [ 1.06293091e+00, -5.16947292e-01],\n",
       "       [-1.01610962e+00,  3.55106612e-01],\n",
       "       [-9.66298588e-01,  1.60673810e-02],\n",
       "       [ 1.18595893e+00, -5.22280350e-01],\n",
       "       [-6.92009323e-01,  5.68868055e-01],\n",
       "       [ 3.87306150e-01,  8.89393260e-01],\n",
       "       [ 1.54717921e+00, -3.17909417e-01],\n",
       "       [-4.49560078e-01,  9.18609843e-01],\n",
       "       [ 1.16691527e+00, -4.72852098e-01],\n",
       "       [ 1.10151026e+00, -4.88228631e-01],\n",
       "       [-3.82901055e-03,  3.35815566e-01],\n",
       "       [-7.68024670e-01,  6.64173413e-01],\n",
       "       [ 8.90574403e-01, -5.71246305e-01],\n",
       "       [ 1.62061396e+00, -2.26244428e-01],\n",
       "       [ 1.16202652e+00, -5.63070613e-01],\n",
       "       [-2.34218459e-01,  9.39536304e-01],\n",
       "       [-9.96680498e-01,  1.22072692e-01],\n",
       "       [ 6.17259558e-01,  7.68565354e-01],\n",
       "       [-8.31319112e-01,  5.51102232e-01],\n",
       "       [ 1.67728753e+00, -2.52160735e-01],\n",
       "       [ 7.94760249e-01,  7.54446480e-01],\n",
       "       [ 2.02875745e+00,  2.85404279e-01],\n",
       "       [-9.10567025e-01,  1.71062815e-01],\n",
       "       [ 1.99616369e+00,  3.86478239e-01],\n",
       "       [-7.34752590e-01,  6.05593900e-01],\n",
       "       [ 1.54952051e+00, -3.16794003e-01],\n",
       "       [ 1.79653290e+00, -5.22179874e-02],\n",
       "       [ 7.40624425e-01,  6.33405670e-01],\n",
       "       [ 9.89818330e-01,  3.88613101e-01],\n",
       "       [ 1.42534551e+00, -3.28267510e-01],\n",
       "       [ 1.37927068e+00, -4.45636798e-01],\n",
       "       [ 7.09019599e-01,  6.65798993e-01],\n",
       "       [-1.94024923e-02,  4.53572650e-02],\n",
       "       [ 7.07948703e-02,  7.24220519e-02],\n",
       "       [ 7.60407090e-01, -4.21576612e-01],\n",
       "       [ 1.03949628e+00,  2.69932705e-01],\n",
       "       [ 8.43526879e-01,  4.11334104e-01],\n",
       "       [-6.59016790e-01,  6.45733402e-01],\n",
       "       [ 6.25748718e-01, -4.38233859e-01],\n",
       "       [-2.05694357e-01,  1.01087785e+00],\n",
       "       [ 3.91658548e-01, -3.25787616e-01],\n",
       "       [-5.06720580e-01,  8.41438606e-01],\n",
       "       [ 5.45426529e-01,  8.48250967e-01],\n",
       "       [ 3.07703752e-01, -2.34309876e-01],\n",
       "       [ 1.01324069e+00,  2.19800569e-01],\n",
       "       [ 1.01114841e+00,  1.71623584e-01],\n",
       "       [ 5.46378747e-01,  7.37901675e-01],\n",
       "       [ 1.85787310e+00, -1.09005213e-01],\n",
       "       [ 1.35044584e-02,  1.00944976e+00],\n",
       "       [ 9.02955683e-01, -5.13904339e-01],\n",
       "       [-1.00002392e+00,  3.41488484e-01],\n",
       "       [-3.57542750e-01,  9.97586588e-01],\n",
       "       [-1.07943833e-02,  4.77951457e-01],\n",
       "       [-1.67517738e-01,  9.87897875e-01],\n",
       "       [-5.90453785e-01,  7.89033945e-01],\n",
       "       [ 1.76331393e+00, -1.38712942e-01],\n",
       "       [ 1.96699735e+00,  6.53240060e-02],\n",
       "       [ 2.10331300e-01, -1.23219466e-01],\n",
       "       [ 2.76296346e-01, -2.33689622e-01],\n",
       "       [ 7.66995380e-01,  6.84398086e-01],\n",
       "       [ 1.86518559e+00,  1.14372547e-01],\n",
       "       [ 1.05303866e+00,  2.04942105e-01],\n",
       "       [ 1.74554728e+00, -1.30100897e-01],\n",
       "       [-9.36111098e-01,  1.17581441e-01],\n",
       "       [-5.80924374e-02,  9.52695843e-01],\n",
       "       [-5.77716487e-01,  8.07994083e-01],\n",
       "       [-3.36145392e-02,  4.36458955e-01],\n",
       "       [ 6.69824548e-01, -4.14283577e-01],\n",
       "       [ 1.87180964e+00, -1.07767407e-01],\n",
       "       [ 7.78601901e-01, -4.71016893e-01],\n",
       "       [ 8.18876744e-01,  4.46782352e-01],\n",
       "       [ 4.98011530e-01, -3.00437662e-01],\n",
       "       [ 1.11698203e+00, -5.00196776e-01],\n",
       "       [ 3.02003541e-01, -1.65729260e-01],\n",
       "       [ 3.99155951e-01,  9.13183017e-01],\n",
       "       [ 1.47931344e+00, -3.02222516e-01],\n",
       "       [ 4.96037551e-02,  1.56824147e-01],\n",
       "       [ 1.17952130e-01, -1.24401646e-01],\n",
       "       [ 3.72027006e-01, -3.28340183e-01],\n",
       "       [-9.52516433e-01,  2.61343594e-01],\n",
       "       [ 2.42600070e-02,  2.80834895e-01],\n",
       "       [ 1.92257197e+00,  2.31759888e-01],\n",
       "       [ 6.29507673e-02,  1.85341618e-01],\n",
       "       [-2.47893354e-01,  9.65834813e-01],\n",
       "       [-3.98998904e-01,  8.25691236e-01],\n",
       "       [ 8.29582729e-01,  5.20825582e-01],\n",
       "       [ 8.30195689e-01, -4.96220090e-01],\n",
       "       [ 1.60424922e+00, -2.21629324e-01],\n",
       "       [ 8.68853516e-01,  4.89940166e-01],\n",
       "       [ 9.69929442e-01,  2.18579509e-01],\n",
       "       [ 1.93648520e+00,  1.24708169e-01],\n",
       "       [ 9.93827074e-01,  1.66922478e-01],\n",
       "       [-3.87047264e-01,  8.89997692e-01],\n",
       "       [-5.37173255e-01,  8.13873298e-01],\n",
       "       [ 8.15656840e-01,  2.90352945e-01],\n",
       "       [-2.55781886e-01,  8.67680455e-01],\n",
       "       [ 4.98844935e-01,  7.92264332e-01],\n",
       "       [-8.33664254e-01,  5.62426278e-01],\n",
       "       [ 1.50183054e-01,  1.07403144e+00],\n",
       "       [-7.02225293e-01,  6.28242423e-01],\n",
       "       [-1.03492311e+00,  4.22612882e-03],\n",
       "       [ 3.72987239e-01, -2.68188235e-01],\n",
       "       [ 7.29951787e-01,  6.05482103e-01],\n",
       "       [-7.09940104e-01,  6.49291532e-01],\n",
       "       [ 1.34251585e+00, -4.00228871e-01],\n",
       "       [ 2.04239546e-01,  9.84355295e-01],\n",
       "       [ 1.02617175e-01,  9.72524213e-01],\n",
       "       [ 2.15091003e-02,  3.75654530e-01],\n",
       "       [ 1.41125478e+00, -2.58395935e-01],\n",
       "       [ 6.52933829e-01,  6.85582624e-01],\n",
       "       [-9.33163675e-01,  3.82922552e-01],\n",
       "       [ 7.12368870e-01, -4.80567980e-01],\n",
       "       [ 6.30863508e-02,  3.44204770e-01],\n",
       "       [ 7.06538606e-02,  3.85791248e-02],\n",
       "       [-5.55178643e-01,  7.85857604e-01],\n",
       "       [ 1.35161547e+00, -4.83767575e-01],\n",
       "       [-8.95066909e-01,  4.01426228e-01],\n",
       "       [ 1.02481388e+00,  5.87546360e-02],\n",
       "       [-7.69850651e-01,  7.44969547e-01],\n",
       "       [ 1.97580587e+00,  1.72957533e-01],\n",
       "       [ 4.19202573e-01, -3.35394381e-01],\n",
       "       [ 7.01881654e-02,  1.10569503e-01],\n",
       "       [-6.30441197e-01,  7.51676621e-01],\n",
       "       [ 2.13997220e-01,  9.86136115e-01],\n",
       "       [ 1.92555262e+00,  4.64312404e-01],\n",
       "       [ 6.92574554e-01, -4.91496751e-01],\n",
       "       [ 4.69297921e-01, -3.78871540e-01],\n",
       "       [ 2.02894375e+00,  3.90117879e-01],\n",
       "       [ 1.56138995e+00, -3.23013146e-01],\n",
       "       [ 9.67145509e-01,  8.38630784e-02],\n",
       "       [-2.54503397e-01,  1.01013203e+00],\n",
       "       [ 1.02583907e-02,  1.44313687e-01],\n",
       "       [ 9.20827769e-01,  3.91293097e-01],\n",
       "       [ 9.76106876e-01,  3.21694641e-01],\n",
       "       [ 1.01603714e+00,  1.41909932e-01],\n",
       "       [ 3.49335319e-01, -3.47732567e-01],\n",
       "       [-1.36549067e-03,  3.72152679e-01],\n",
       "       [-9.30782647e-01,  3.62499417e-01],\n",
       "       [-9.61860106e-01,  4.61282719e-01],\n",
       "       [ 2.76639201e-01,  8.83931031e-01],\n",
       "       [ 3.58740649e-02,  2.51714960e-01],\n",
       "       [-5.35006193e-01,  7.70792960e-01],\n",
       "       [ 1.55060120e+00, -4.21265993e-01],\n",
       "       [ 7.56187413e-01,  6.61965082e-01],\n",
       "       [-3.55871979e-01,  8.42270058e-01],\n",
       "       [ 1.35659399e+00, -4.09298843e-01],\n",
       "       [ 4.03278239e-01,  9.44324948e-01],\n",
       "       [ 2.06398388e+00,  4.49782937e-01],\n",
       "       [ 3.19021639e-01,  9.75348955e-01],\n",
       "       [ 4.53929485e-01, -2.25358409e-01],\n",
       "       [ 6.33409312e-01, -5.11190721e-01],\n",
       "       [-1.04395293e+00,  2.13881032e-01],\n",
       "       [ 1.12026694e+00, -5.44045291e-01],\n",
       "       [ 9.48789221e-01,  1.68780366e-01],\n",
       "       [ 2.47604598e-01, -1.22826668e-01],\n",
       "       [ 1.77404913e+00, -3.39427193e-02],\n",
       "       [ 1.03544841e+00,  7.93215272e-02],\n",
       "       [ 8.04896986e-01,  5.87824149e-01],\n",
       "       [ 3.10747408e-01, -1.44976253e-01],\n",
       "       [ 1.02926231e+00,  3.19581057e-02],\n",
       "       [ 1.80851404e+00, -1.60608068e-02],\n",
       "       [ 7.98080568e-01,  6.18494532e-01],\n",
       "       [-3.73950798e-02,  1.00274001e+00],\n",
       "       [ 5.67460769e-01,  8.75810578e-01],\n",
       "       [ 1.57744576e+00, -3.17826423e-01],\n",
       "       [ 2.08813847e-01, -1.92051141e-01],\n",
       "       [-4.54965606e-01,  8.51652701e-01],\n",
       "       [ 2.00399900e+00,  2.45724992e-01],\n",
       "       [ 1.94648654e+00,  6.31002099e-02],\n",
       "       [ 1.72655250e+00, -2.50583663e-01],\n",
       "       [ 1.28852748e+00, -4.43782976e-01],\n",
       "       [ 6.72772288e-01, -4.23129784e-01],\n",
       "       [-3.62107611e-01,  8.70464193e-01],\n",
       "       [ 8.93633326e-01,  4.79191510e-01],\n",
       "       [ 2.12951515e+00,  5.42425194e-01],\n",
       "       [ 1.22099544e+00, -5.50137282e-01],\n",
       "       [ 1.10042603e-01,  1.07547706e+00],\n",
       "       [ 6.07220312e-01, -4.67961627e-01],\n",
       "       [ 4.93235770e-02,  4.89779073e-01],\n",
       "       [-1.34328681e-01,  3.47376302e-01],\n",
       "       [-1.70147495e-02,  1.00209443e+00],\n",
       "       [ 3.59261576e-01, -3.49455820e-01],\n",
       "       [ 1.04110304e+00,  3.56847162e-01],\n",
       "       [ 5.50482903e-01, -3.91514034e-01],\n",
       "       [ 1.89313940e+00,  8.76085397e-02],\n",
       "       [ 1.36654971e+00, -4.44172025e-01],\n",
       "       [ 3.29670122e-01,  9.87401485e-01],\n",
       "       [-3.93134853e-01,  8.96930208e-01],\n",
       "       [ 7.35814532e-02,  4.27008782e-01],\n",
       "       [ 8.08556779e-01,  6.41822207e-01],\n",
       "       [ 1.79269746e+00, -1.54843765e-01],\n",
       "       [-6.53010946e-02,  9.96473257e-01],\n",
       "       [ 9.69210124e-01, -5.30355880e-01],\n",
       "       [-8.78669306e-01,  4.01823290e-01],\n",
       "       [ 5.87791198e-02, -9.74022204e-02],\n",
       "       [ 1.59696249e+00, -1.97626716e-01],\n",
       "       [ 1.95104982e+00,  5.37001177e-01],\n",
       "       [ 1.01780102e-01,  1.10707172e-01],\n",
       "       [-9.45217987e-01,  3.53093256e-01],\n",
       "       [ 2.07954430e-01,  9.20401267e-01],\n",
       "       [ 7.98057224e-01, -4.53004566e-01],\n",
       "       [ 2.02023086e-01,  9.93739834e-01],\n",
       "       [-1.34904688e-01,  1.02391739e+00],\n",
       "       [ 7.32318224e-01,  7.02471790e-01],\n",
       "       [ 1.94333293e+00,  3.58433699e-01],\n",
       "       [ 1.27244111e+00, -4.61439348e-01],\n",
       "       [ 1.15405991e+00, -4.85363292e-01],\n",
       "       [-1.00575393e+00,  1.35023818e-01],\n",
       "       [ 9.47268983e-01, -5.74456019e-01],\n",
       "       [-8.50542743e-01,  4.98454492e-01],\n",
       "       [ 5.59097883e-01,  8.60990931e-01],\n",
       "       [-8.71443845e-01,  5.70582788e-01]])"
      ]
     },
     "execution_count": 13,
     "metadata": {},
     "output_type": "execute_result"
    }
   ],
   "source": [
    "X"
   ]
  },
  {
   "cell_type": "code",
   "execution_count": 4,
   "id": "29d5e092",
   "metadata": {},
   "outputs": [
    {
     "data": {
      "text/plain": [
       "<matplotlib.collections.PathCollection at 0x252f4cad820>"
      ]
     },
     "execution_count": 4,
     "metadata": {},
     "output_type": "execute_result"
    },
    {
     "data": {
      "image/png": "[encoded data removed]",
      "text/plain": [
       "<Figure size 432x288 with 1 Axes>"
      ]
     },
     "metadata": {
      "needs_background": "light"
     },
     "output_type": "display_data"
    }
   ],
   "source": [
    "plt.scatter(X[:,0],X[:,1])"
   ]
  },
  {
   "cell_type": "code",
   "execution_count": 5,
   "id": "f8bde151",
   "metadata": {},
   "outputs": [],
   "source": [
    "##feature scaling(Standard Scaling)\n",
    "from sklearn.preprocessing import StandardScaler\n",
    "scaler=StandardScaler()"
   ]
  },
  {
   "cell_type": "code",
   "execution_count": 6,
   "id": "9a95e834",
   "metadata": {},
   "outputs": [],
   "source": [
    "X_scaled=scaler.fit_transform(X)"
   ]
  },
  {
   "cell_type": "code",
   "execution_count": 14,
   "id": "7fefdd11",
   "metadata": {},
   "outputs": [],
   "source": [
    "from sklearn.cluster import DBSCAN"
   ]
  },
  {
   "cell_type": "raw",
   "id": "28f6b7b9",
   "metadata": {},
   "source": [
    "X_scaled"
   ]
  },
  {
   "cell_type": "code",
   "execution_count": 15,
   "id": "85ae9a86",
   "metadata": {},
   "outputs": [],
   "source": [
    "### DBSCAN Algorithm\n",
    "dbcan=DBSCAN(eps=0.5)"
   ]
  },
  {
   "cell_type": "code",
   "execution_count": 16,
   "id": "3cec16cb",
   "metadata": {},
   "outputs": [
    {
     "data": {
      "text/html": [
       "<style>#sk-container-id-2 {color: black;}#sk-container-id-2 pre{padding: 0;}#sk-container-id-2 div.sk-toggleable {background-color: white;}#sk-container-id-2 label.sk-toggleable__label {cursor: pointer;display: block;width: 100%;margin-bottom: 0;padding: 0.3em;box-sizing: border-box;text-align: center;}#sk-container-id-2 label.sk-toggleable__label-arrow:before {content: \"▸\";float: left;margin-right: 0.25em;color: #696969;}#sk-container-id-2 label.sk-toggleable__label-arrow:hover:before {color: black;}#sk-container-id-2 div.sk-estimator:hover label.sk-toggleable__label-arrow:before {color: black;}#sk-container-id-2 div.sk-toggleable__content {max-height: 0;max-width: 0;overflow: hidden;text-align: left;background-color: #f0f8ff;}#sk-container-id-2 div.sk-toggleable__content pre {margin: 0.2em;color: black;border-radius: 0.25em;background-color: #f0f8ff;}#sk-container-id-2 input.sk-toggleable__control:checked~div.sk-toggleable__content {max-height: 200px;max-width: 100%;overflow: auto;}#sk-container-id-2 input.sk-toggleable__control:checked~label.sk-toggleable__label-arrow:before {content: \"▾\";}#sk-container-id-2 div.sk-estimator input.sk-toggleable__control:checked~label.sk-toggleable__label {background-color: #d4ebff;}#sk-container-id-2 div.sk-label input.sk-toggleable__control:checked~label.sk-toggleable__label {background-color: #d4ebff;}#sk-container-id-2 input.sk-hidden--visually {border: 0;clip: rect(1px 1px 1px 1px);clip: rect(1px, 1px, 1px, 1px);height: 1px;margin: -1px;overflow: hidden;padding: 0;position: absolute;width: 1px;}#sk-container-id-2 div.sk-estimator {font-family: monospace;background-color: #f0f8ff;border: 1px dotted black;border-radius: 0.25em;box-sizing: border-box;margin-bottom: 0.5em;}#sk-container-id-2 div.sk-estimator:hover {background-color: #d4ebff;}#sk-container-id-2 div.sk-parallel-item::after {content: \"\";width: 100%;border-bottom: 1px solid gray;flex-grow: 1;}#sk-container-id-2 div.sk-label:hover label.sk-toggleable__label {background-color: #d4ebff;}#sk-container-id-2 div.sk-serial::before {content: \"\";position: absolute;border-left: 1px solid gray;box-sizing: border-box;top: 0;bottom: 0;left: 50%;z-index: 0;}#sk-container-id-2 div.sk-serial {display: flex;flex-direction: column;align-items: center;background-color: white;padding-right: 0.2em;padding-left: 0.2em;position: relative;}#sk-container-id-2 div.sk-item {position: relative;z-index: 1;}#sk-container-id-2 div.sk-parallel {display: flex;align-items: stretch;justify-content: center;background-color: white;position: relative;}#sk-container-id-2 div.sk-item::before, #sk-container-id-2 div.sk-parallel-item::before {content: \"\";position: absolute;border-left: 1px solid gray;box-sizing: border-box;top: 0;bottom: 0;left: 50%;z-index: -1;}#sk-container-id-2 div.sk-parallel-item {display: flex;flex-direction: column;z-index: 1;position: relative;background-color: white;}#sk-container-id-2 div.sk-parallel-item:first-child::after {align-self: flex-end;width: 50%;}#sk-container-id-2 div.sk-parallel-item:last-child::after {align-self: flex-start;width: 50%;}#sk-container-id-2 div.sk-parallel-item:only-child::after {width: 0;}#sk-container-id-2 div.sk-dashed-wrapped {border: 1px dashed gray;margin: 0 0.4em 0.5em 0.4em;box-sizing: border-box;padding-bottom: 0.4em;background-color: white;}#sk-container-id-2 div.sk-label label {font-family: monospace;font-weight: bold;display: inline-block;line-height: 1.2em;}#sk-container-id-2 div.sk-label-container {text-align: center;}#sk-container-id-2 div.sk-container {/* jupyter's `normalize.less` sets `[hidden] { display: none; }` but bootstrap.min.css set `[hidden] { display: none !important; }` so we also need the `!important` here to be able to override the default hidden behavior on the sphinx rendered scikit-learn.org. See: https://github.com/scikit-learn/scikit-learn/issues/21755 */display: inline-block !important;position: relative;}#sk-container-id-2 div.sk-text-repr-fallback {display: none;}</style><div id=\"sk-container-id-2\" class=\"sk-top-container\"><div class=\"sk-text-repr-fallback\"><pre>DBSCAN()</pre><b>In a Jupyter environment, please rerun this cell to show the HTML representation or trust the notebook. <br />On GitHub, the HTML representation is unable to render, please try loading this page with nbviewer.org.</b></div><div class=\"sk-container\" hidden><div class=\"sk-item\"><div class=\"sk-estimator sk-toggleable\"><input class=\"sk-toggleable__control sk-hidden--visually\" id=\"sk-estimator-id-2\" type=\"checkbox\" checked><label for=\"sk-estimator-id-2\" class=\"sk-toggleable__label sk-toggleable__label-arrow\">DBSCAN</label><div class=\"sk-toggleable__content\"><pre>DBSCAN()</pre></div></div></div></div></div>"
      ],
      "text/plain": [
       "DBSCAN()"
      ]
     },
     "execution_count": 16,
     "metadata": {},
     "output_type": "execute_result"
    }
   ],
   "source": [
    "dbcan.fit(X_scaled)"
   ]
  },
  {
   "cell_type": "code",
   "execution_count": 17,
   "id": "036b029c",
   "metadata": {},
   "outputs": [
    {
     "data": {
      "text/plain": [
       "array([0, 0, 0, 0, 1, 1, 1, 0, 1, 0, 0, 1, 0, 1, 0, 1, 0, 1, 0, 1, 0, 1,\n",
       "       1, 0, 1, 1, 0, 1, 1, 1, 1, 0, 0, 0, 1, 0, 0, 1, 1, 0, 0, 1, 0, 0,\n",
       "       1, 0, 1, 1, 1, 0, 1, 1, 1, 0, 0, 0, 0, 1, 0, 1, 0, 1, 0, 1, 1, 0,\n",
       "       0, 1, 1, 0, 1, 1, 1, 0, 0, 0, 1, 0, 1, 0, 0, 1, 0, 0, 0, 1, 0, 1,\n",
       "       0, 0, 1, 0, 0, 1, 1, 1, 1, 0, 1, 0, 1, 0, 0, 0, 1, 1, 1, 1, 0, 1,\n",
       "       1, 1, 0, 1, 1, 1, 1, 0, 1, 1, 1, 0, 0, 0, 1, 1, 0, 0, 1, 0, 0, 0,\n",
       "       0, 0, 0, 0, 0, 0, 0, 1, 0, 0, 1, 0, 0, 1, 1, 0, 0, 1, 1, 1, 0, 1,\n",
       "       0, 0, 0, 1, 1, 1, 0, 0, 1, 1, 1, 1, 1, 0, 0, 1, 0, 0, 0, 1, 1, 0,\n",
       "       0, 0, 1, 0, 1, 0, 0, 1, 0, 1, 0, 1, 1, 0, 1, 0, 1, 1, 0, 0, 1, 0,\n",
       "       1, 0, 0, 0, 1, 1, 0, 1, 1, 1, 1, 1, 0, 0, 1, 1, 0, 1, 1, 1, 0, 1,\n",
       "       0, 1, 1, 1, 0, 0, 1, 0, 1, 0, 1, 0, 1, 1, 1, 1, 0, 0, 1, 0, 0, 0,\n",
       "       1, 1, 1, 0, 1, 0, 0, 0], dtype=int64)"
      ]
     },
     "execution_count": 17,
     "metadata": {},
     "output_type": "execute_result"
    }
   ],
   "source": [
    "\n",
    "dbcan.labels_"
   ]
  },
  {
   "cell_type": "code",
   "execution_count": 18,
   "id": "60d81195",
   "metadata": {},
   "outputs": [
    {
     "data": {
      "text/plain": [
       "<matplotlib.collections.PathCollection at 0x252f4e9cb80>"
      ]
     },
     "execution_count": 18,
     "metadata": {},
     "output_type": "execute_result"
    },
    {
     "data": {
      "image/png": "[encoded data removed]",
      "text/plain": [
       "<Figure size 432x288 with 1 Axes>"
      ]
     },
     "metadata": {
      "needs_background": "light"
     },
     "output_type": "display_data"
    }
   ],
   "source": [
    "plt.scatter(X[:,0],X[:,1],c=dbcan.labels_)"
   ]
  },
  {
   "cell_type": "code",
   "execution_count": 19,
   "id": "a019ac09",
   "metadata": {},
   "outputs": [
    {
     "data": {
      "text/plain": [
       "<matplotlib.collections.PathCollection at 0x252f4f11730>"
      ]
     },
     "execution_count": 19,
     "metadata": {},
     "output_type": "execute_result"
    },
    {
     "data": {
      "image/png": "[encoded data removed]",
      "text/plain": [
       "<Figure size 432x288 with 1 Axes>"
      ]
     },
     "metadata": {
      "needs_background": "light"
     },
     "output_type": "display_data"
    }
   ],
   "source": [
    "plt.scatter(X[:,0],X[:,1],c=y)"
   ]
  },
  {
   "cell_type": "code",
   "execution_count": null,
   "id": "5e7c8abb",
   "metadata": {},
   "outputs": [],
   "source": []
  },
  {
   "cell_type": "code",
   "execution_count": null,
   "id": "ecdd87ef",
   "metadata": {},
   "outputs": [],
   "source": []
  }
 ],
 "metadata": {
  "kernelspec": {
   "display_name": "Python 3 (ipykernel)",
   "language": "python",
   "name": "python3"
  },
  "language_info": {
   "codemirror_mode": {
    "name": "ipython",
    "version": 3
   },
   "file_extension": ".py",
   "mimetype": "text/x-python",
   "name": "python",
   "nbconvert_exporter": "python",
   "pygments_lexer": "ipython3",
   "version": "3.9.12"
  }
 },
 "nbformat": 4,
 "nbformat_minor": 5
}
