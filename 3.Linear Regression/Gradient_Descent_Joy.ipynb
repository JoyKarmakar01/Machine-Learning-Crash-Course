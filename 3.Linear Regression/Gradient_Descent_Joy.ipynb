{
 "cells": [
  {
   "cell_type": "code",
   "execution_count": 13,
   "id": "71d618cf",
   "metadata": {},
   "outputs": [],
   "source": [
    "import seaborn as sns\n",
    "import numpy as np\n",
    "import matplotlib.pyplot as plt\n",
    "import pandas as pd\n",
    "from sklearn.metrics import mean_squared_error as mse\n"
   ]
  },
  {
   "cell_type": "code",
   "execution_count": 14,
   "id": "c15bfde8",
   "metadata": {},
   "outputs": [],
   "source": [
    "data = pd.read_csv(\"Transformed_Housing_Data2.csv\")"
   ]
  },
  {
   "cell_type": "code",
   "execution_count": 15,
   "id": "86334f98",
   "metadata": {},
   "outputs": [
    {
     "data": {
      "text/html": [
       "<div>\n",
       "<style scoped>\n",
       "    .dataframe tbody tr th:only-of-type {\n",
       "        vertical-align: middle;\n",
       "    }\n",
       "\n",
       "    .dataframe tbody tr th {\n",
       "        vertical-align: top;\n",
       "    }\n",
       "\n",
       "    .dataframe thead th {\n",
       "        text-align: right;\n",
       "    }\n",
       "</style>\n",
       "<table border=\"1\" class=\"dataframe\">\n",
       "  <thead>\n",
       "    <tr style=\"text-align: right;\">\n",
       "      <th></th>\n",
       "      <th>sale_price</th>\n",
       "      <th>flat_area</th>\n",
       "    </tr>\n",
       "  </thead>\n",
       "  <tbody>\n",
       "    <tr>\n",
       "      <th>0</th>\n",
       "      <td>221900.0</td>\n",
       "      <td>1180.0</td>\n",
       "    </tr>\n",
       "    <tr>\n",
       "      <th>1</th>\n",
       "      <td>538000.0</td>\n",
       "      <td>2570.0</td>\n",
       "    </tr>\n",
       "    <tr>\n",
       "      <th>2</th>\n",
       "      <td>180000.0</td>\n",
       "      <td>770.0</td>\n",
       "    </tr>\n",
       "    <tr>\n",
       "      <th>3</th>\n",
       "      <td>604000.0</td>\n",
       "      <td>1960.0</td>\n",
       "    </tr>\n",
       "    <tr>\n",
       "      <th>4</th>\n",
       "      <td>510000.0</td>\n",
       "      <td>1680.0</td>\n",
       "    </tr>\n",
       "  </tbody>\n",
       "</table>\n",
       "</div>"
      ],
      "text/plain": [
       "   sale_price  flat_area\n",
       "0    221900.0     1180.0\n",
       "1    538000.0     2570.0\n",
       "2    180000.0      770.0\n",
       "3    604000.0     1960.0\n",
       "4    510000.0     1680.0"
      ]
     },
     "execution_count": 15,
     "metadata": {},
     "output_type": "execute_result"
    }
   ],
   "source": [
    "sale_price = data[\"Sale_Price\"].head(30)\n",
    "flat_area = data['Flat Area (in Sqft)'].head(30)\n",
    "sample_data = pd.DataFrame({ 'sale_price': sale_price,\n",
    "                              'flat_area': flat_area})\n",
    "sample_data.head()"
   ]
  },
  {
   "cell_type": "code",
   "execution_count": 23,
   "id": "a9b1c123",
   "metadata": {},
   "outputs": [
    {
     "name": "stdout",
     "output_type": "stream",
     "text": [
      "Converged after 300 iterations\n"
     ]
    },
    {
     "data": {
      "image/png": "[encoded data removed]",
      "text/plain": [
       "<Figure size 432x288 with 1 Axes>"
      ]
     },
     "metadata": {
      "needs_background": "light"
     },
     "output_type": "display_data"
    }
   ],
   "source": [
    "from sklearn.preprocessing import StandardScaler\n",
    "scaler = StandardScaler()\n",
    "sale_price = scaler.fit_transform(sample_data['sale_price'].values.reshape(-1,1))\n",
    "flat_area = scaler.fit_transform(sample_data['flat_area'].values.reshape(-1,1))\n",
    "\n",
    "# Function to initialize parameters\n",
    "def param_init(Y):\n",
    "    return 0.1, np.mean(Y)\n",
    "\n",
    "# Function to generate predictions\n",
    "def generate_predictions(m, c, X):\n",
    "    return m * X + c\n",
    "\n",
    "# Function to compute mean squared error\n",
    "def compute_cost(prediction, Y):\n",
    "    return np.mean((prediction - Y) ** 2)\n",
    "\n",
    "# Function to calculate gradients\n",
    "def gradients(prediction, Y, X):\n",
    "    n = len(Y)\n",
    "    Gm = 2/n * np.sum((prediction - Y) * X)\n",
    "    Gc = 2/n * np.sum((prediction - Y))\n",
    "    return Gm, Gc\n",
    "\n",
    "# Function to update parameters\n",
    "def param_update(m_old, c_old, Gm_old, Gc_old, alpha):\n",
    "    m_new = m_old - alpha * Gm_old\n",
    "    c_new = c_old - alpha * Gc_old\n",
    "    return m_new, c_new\n",
    "\n",
    "# Function to print and plot the final result\n",
    "def result(m, c, X, Y, cost, predictions):\n",
    "    plt.scatter(X, Y, color='red', label='data points')\n",
    "    plt.plot(X, predictions, color='green', label=f'final regression line: m = {m:.2f}; c = {c:.2f}')\n",
    "    plt.xlabel('flat_area')\n",
    "    plt.ylabel('sale_price')\n",
    "    plt.title('Final Regression Line')\n",
    "    plt.legend()\n",
    "    plt.show()\n",
    "\n",
    "# Initialize parameters\n",
    "m, c = param_init(sale_price)\n",
    "\n",
    "# Gradient Descent parameters\n",
    "max_iter = 1000\n",
    "alpha = 0.01\n",
    "cost_old = 0\n",
    "\n",
    "# Gradient Descent\n",
    "for i in range(max_iter):\n",
    "    predictions = generate_predictions(m, c, flat_area)\n",
    "    cost_new = compute_cost(predictions, sale_price)\n",
    "\n",
    "    if abs(cost_new - cost_old) < 1e-7:\n",
    "        print(f\"Converged after {i} iterations\")\n",
    "        break\n",
    "\n",
    "    Gm, Gc = gradients(predictions, sale_price, flat_area)\n",
    "    m, c = param_update(m, c, Gm, Gc, alpha)\n",
    "    cost_old = cost_new\n",
    "\n",
    "result(m, c, flat_area, sale_price, cost_new, predictions)\n"
   ]
  },
  {
   "cell_type": "code",
   "execution_count": null,
   "id": "81d7be63",
   "metadata": {},
   "outputs": [],
   "source": []
  }
 ],
 "metadata": {
  "kernelspec": {
   "display_name": "Python 3 (ipykernel)",
   "language": "python",
   "name": "python3"
  },
  "language_info": {
   "codemirror_mode": {
    "name": "ipython",
    "version": 3
   },
   "file_extension": ".py",
   "mimetype": "text/x-python",
   "name": "python",
   "nbconvert_exporter": "python",
   "pygments_lexer": "ipython3",
   "version": "3.9.12"
  }
 },
 "nbformat": 4,
 "nbformat_minor": 5
}
