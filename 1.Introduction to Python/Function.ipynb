{
 "cells": [
  {
   "cell_type": "markdown",
   "id": "296c4be8",
   "metadata": {},
   "source": [
    "# Function\n"
   ]
  },
  {
   "cell_type": "code",
   "execution_count": 1,
   "id": "0fe33453",
   "metadata": {},
   "outputs": [
    {
     "data": {
      "text/plain": [
       "25"
      ]
     },
     "execution_count": 1,
     "metadata": {},
     "output_type": "execute_result"
    }
   ],
   "source": [
    "def square(a):\n",
    "    return a*a\n",
    "square(5)"
   ]
  },
  {
   "cell_type": "code",
   "execution_count": 4,
   "id": "7a7553e1",
   "metadata": {},
   "outputs": [
    {
     "name": "stdout",
     "output_type": "stream",
     "text": [
      "Number of Combination = 120.0\n"
     ]
    }
   ],
   "source": [
    "n=10\n",
    "r=3\n",
    "\n",
    "fact_n = 1\n",
    "for i in range(1,n+1):\n",
    "    fact_n = fact_n *i\n",
    "    \n",
    "fact_r = 1\n",
    "for i in range(1, r+1):\n",
    "    fact_r = fact_r * i\n",
    "\n",
    "fact_n_r = 1\n",
    "for i in range(1, n-r+1):\n",
    "    fact_n_r = fact_n_r * i \n",
    "\n",
    "C = fact_n/(fact_r * (fact_n_r))\n",
    "print(\"Number of Combination = \" + str(C))"
   ]
  },
  {
   "cell_type": "code",
   "execution_count": 5,
   "id": "2d4cc5c5",
   "metadata": {},
   "outputs": [
    {
     "name": "stdout",
     "output_type": "stream",
     "text": [
      "Number of Combination = 120.0\n"
     ]
    }
   ],
   "source": [
    "def factorial(value):\n",
    "    fact = 1 \n",
    "    for i in range(1, value+1):\n",
    "        fact = fact * i\n",
    "        return fact\n",
    "    \n",
    "C = factorial(n)/(factorial(r)*factorial(n-r))\n",
    "print (\"Number of Combination = \" + str(C))"
   ]
  },
  {
   "cell_type": "code",
   "execution_count": 6,
   "id": "941334db",
   "metadata": {},
   "outputs": [],
   "source": [
    "import math"
   ]
  },
  {
   "cell_type": "code",
   "execution_count": 7,
   "id": "ccf37617",
   "metadata": {},
   "outputs": [
    {
     "data": {
      "text/plain": [
       "210.0"
      ]
     },
     "execution_count": 7,
     "metadata": {},
     "output_type": "execute_result"
    }
   ],
   "source": [
    "factorial(10)/(factorial(6)*factorial(4))\n"
   ]
  },
  {
   "cell_type": "code",
   "execution_count": 8,
   "id": "1ed323de",
   "metadata": {},
   "outputs": [
    {
     "name": "stdout",
     "output_type": "stream",
     "text": [
      "5\n",
      "7\n",
      "9\n",
      "11\n",
      "Ki obostha\n"
     ]
    }
   ],
   "source": [
    "i=1\n",
    "while True:\n",
    "    \n",
    "    if i % 9 ==0:\n",
    "        print(\"Ki obostha\")\n",
    "        \n",
    "        break\n",
    "    print(i+4)\n",
    "    i += 2"
   ]
  },
  {
   "cell_type": "code",
   "execution_count": 1,
   "id": "d7b5eacc",
   "metadata": {},
   "outputs": [
    {
     "name": "stdout",
     "output_type": "stream",
     "text": [
      "0\n",
      "2\n",
      "4\n",
      "0\n"
     ]
    }
   ],
   "source": [
    "i = 0\n",
    "while i < 6:\n",
    "    print (i)\n",
    "    i += 2\n",
    "else:\n",
    "    print (0)"
   ]
  },
  {
   "cell_type": "code",
   "execution_count": null,
   "id": "84fd07af",
   "metadata": {},
   "outputs": [],
   "source": [
    "i = 0\n",
    "while i <= 10:\n",
    "    print (i)"
   ]
  },
  {
   "cell_type": "code",
   "execution_count": null,
   "id": "9a63f343",
   "metadata": {},
   "outputs": [],
   "source": [
    "hello world"
   ]
  }
 ],
 "metadata": {
  "kernelspec": {
   "display_name": "Python 3 (ipykernel)",
   "language": "python",
   "name": "python3"
  },
  "language_info": {
   "codemirror_mode": {
    "name": "ipython",
    "version": 3
   },
   "file_extension": ".py",
   "mimetype": "text/x-python",
   "name": "python",
   "nbconvert_exporter": "python",
   "pygments_lexer": "ipython3",
   "version": "3.9.12"
  }
 },
 "nbformat": 4,
 "nbformat_minor": 5
}
