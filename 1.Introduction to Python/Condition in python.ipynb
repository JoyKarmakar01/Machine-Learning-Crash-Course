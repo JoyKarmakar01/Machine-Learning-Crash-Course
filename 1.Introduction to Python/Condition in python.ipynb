{
 "cells": [
  {
   "cell_type": "code",
   "execution_count": 1,
   "id": "676517f7",
   "metadata": {},
   "outputs": [
    {
     "name": "stdout",
     "output_type": "stream",
     "text": [
      "order\n"
     ]
    }
   ],
   "source": [
    "i = 'late'\n",
    "if( i== 'late' ):\n",
    " print('order')\n",
    "else:\n",
    " print('cook')"
   ]
  },
  {
   "cell_type": "code",
   "execution_count": 2,
   "id": "db6a3544",
   "metadata": {},
   "outputs": [
    {
     "name": "stdout",
     "output_type": "stream",
     "text": [
      "cook\n"
     ]
    }
   ],
   "source": [
    "i = 'not_late'\n",
    "if( i== 'late' ):\n",
    "   print('order')\n",
    "else:\n",
    "   print('cook')"
   ]
  },
  {
   "cell_type": "code",
   "execution_count": 3,
   "id": "8ef678bf",
   "metadata": {},
   "outputs": [],
   "source": [
    "number =300"
   ]
  },
  {
   "cell_type": "code",
   "execution_count": 4,
   "id": "c57956df",
   "metadata": {},
   "outputs": [
    {
     "name": "stdout",
     "output_type": "stream",
     "text": [
      " Good\n",
      " Okay\n"
     ]
    }
   ],
   "source": [
    "if( number >= 80):\n",
    " print(\" Good\")\n",
    "if( number >= 60):\n",
    " print(\" Okay\")\n",
    "else:\n",
    "    print(\"Needs improvement\")"
   ]
  },
  {
   "cell_type": "code",
   "execution_count": 5,
   "id": "16afc24f",
   "metadata": {},
   "outputs": [
    {
     "name": "stdout",
     "output_type": "stream",
     "text": [
      " Good\n"
     ]
    }
   ],
   "source": [
    "if number >= 80:\n",
    " print(\" Good\")\n",
    "elif number >= 60:\n",
    " print(\" Okay\")\n",
    "else:\n",
    "    print(\"Needs improvement\")"
   ]
  },
  {
   "cell_type": "code",
   "execution_count": 6,
   "id": "f0b1b3ed",
   "metadata": {},
   "outputs": [],
   "source": [
    "num = 50"
   ]
  },
  {
   "cell_type": "code",
   "execution_count": 7,
   "id": "aa8f6ff1",
   "metadata": {},
   "outputs": [
    {
     "name": "stdout",
     "output_type": "stream",
     "text": [
      " Number is not odd and less than 50\n"
     ]
    }
   ],
   "source": [
    "if num > 50:\n",
    "    if num % 2 == 0:\n",
    "     print(\" Number is even and grearter than 50\")\n",
    "    else :\n",
    "      print (\" Number is not even and greater than 50 \")\n",
    "else:\n",
    "    if num % 2 == 1:\n",
    "     print(\" Number is odd and less than 50  \")\n",
    "    else: \n",
    "     print(\" Number is not odd and less than 50\")"
   ]
  },
  {
   "cell_type": "code",
   "execution_count": 8,
   "id": "faff1430",
   "metadata": {},
   "outputs": [],
   "source": [
    "a = 678"
   ]
  },
  {
   "cell_type": "code",
   "execution_count": 9,
   "id": "e2d67eff",
   "metadata": {},
   "outputs": [
    {
     "name": "stdout",
     "output_type": "stream",
     "text": [
      "Number is divisible by 2\n"
     ]
    }
   ],
   "source": [
    "if a % 2 == 0: \n",
    " print(\"Number is divisible by 2\")\n",
    "else:\n",
    " print(\"Number is not divisible by 2\")"
   ]
  },
  {
   "cell_type": "code",
   "execution_count": null,
   "id": "746d3ccc",
   "metadata": {},
   "outputs": [],
   "source": []
  },
  {
   "cell_type": "markdown",
   "id": "4f7098f9",
   "metadata": {},
   "source": [
    "# Iterative Statements\n"
   ]
  },
  {
   "cell_type": "code",
   "execution_count": 10,
   "id": "81d621f8",
   "metadata": {},
   "outputs": [
    {
     "name": "stdout",
     "output_type": "stream",
     "text": [
      "Machine learning is awesome\n",
      "Machine learning is awesome\n",
      "Machine learning is awesome\n",
      "Machine learning is awesome\n",
      "Machine learning is awesome\n"
     ]
    }
   ],
   "source": [
    "for i in range(0,1000,200):\n",
    "    print(\"Machine learning is awesome\")"
   ]
  },
  {
   "cell_type": "code",
   "execution_count": 11,
   "id": "9a5795b6",
   "metadata": {},
   "outputs": [
    {
     "name": "stdout",
     "output_type": "stream",
     "text": [
      "3628800\n"
     ]
    }
   ],
   "source": [
    "fact = 1\n",
    "for i in range(1,11):\n",
    "    fact = fact * i\n",
    "print(fact)"
   ]
  },
  {
   "cell_type": "code",
   "execution_count": 3,
   "id": "7e64d74a",
   "metadata": {},
   "outputs": [
    {
     "data": {
      "text/plain": [
       "120"
      ]
     },
     "execution_count": 3,
     "metadata": {},
     "output_type": "execute_result"
    }
   ],
   "source": [
    "10*9*8*7*6*5*4*3*2\n",
    "\n",
    "2*1\n",
    "24*5\n"
   ]
  }
 ],
 "metadata": {
  "kernelspec": {
   "display_name": "Python 3 (ipykernel)",
   "language": "python",
   "name": "python3"
  },
  "language_info": {
   "codemirror_mode": {
    "name": "ipython",
    "version": 3
   },
   "file_extension": ".py",
   "mimetype": "text/x-python",
   "name": "python",
   "nbconvert_exporter": "python",
   "pygments_lexer": "ipython3",
   "version": "3.9.12"
  }
 },
 "nbformat": 4,
 "nbformat_minor": 5
}
